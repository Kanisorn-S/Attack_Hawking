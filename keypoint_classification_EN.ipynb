{
  "cells": [
    {
      "cell_type": "code",
      "execution_count": 36,
      "metadata": {
        "id": "igMyGnjE9hEp"
      },
      "outputs": [],
      "source": [
        "import csv\n",
        "\n",
        "import numpy as np\n",
        "import tensorflow as tf\n",
        "from sklearn.model_selection import train_test_split\n",
        "\n",
        "RANDOM_SEED = 42"
      ]
    },
    {
      "cell_type": "code",
      "execution_count": 37,
      "metadata": {},
      "outputs": [
        {
          "name": "stdout",
          "output_type": "stream",
          "text": [
            "Package                      Version\n",
            "---------------------------- ---------------\n",
            "absl-py                      2.1.0\n",
            "aioice                       0.9.0\n",
            "aiortc                       1.7.0\n",
            "altair                       5.2.0\n",
            "anyio                        4.2.0\n",
            "argon2-cffi                  23.1.0\n",
            "argon2-cffi-bindings         21.2.0\n",
            "arrow                        1.3.0\n",
            "asttokens                    2.4.1\n",
            "astunparse                   1.6.3\n",
            "async-lru                    2.0.4\n",
            "attrs                        23.2.0\n",
            "audio-processing             0.0.1\n",
            "av                           11.0.0\n",
            "Babel                        2.14.0\n",
            "beautifulsoup4               4.12.3\n",
            "bleach                       6.1.0\n",
            "blinker                      1.7.0\n",
            "bs4                          0.0.2\n",
            "build                        1.2.1\n",
            "CacheControl                 0.14.0\n",
            "cachetools                   5.3.2\n",
            "caer                         2.0.8\n",
            "canaro                       1.1.0\n",
            "certifi                      2023.11.17\n",
            "cffi                         1.16.0\n",
            "charset-normalizer           3.3.2\n",
            "cleo                         2.1.0\n",
            "click                        8.1.7\n",
            "colorama                     0.4.6\n",
            "comm                         0.2.1\n",
            "contourpy                    1.2.0\n",
            "crashtest                    0.4.1\n",
            "cryptography                 42.0.2\n",
            "cycler                       0.12.1\n",
            "debugpy                      1.8.0\n",
            "decorator                    5.1.1\n",
            "defusedxml                   0.7.1\n",
            "distlib                      0.3.8\n",
            "dlib                         19.22.99\n",
            "dnspython                    2.5.0\n",
            "dulwich                      0.21.7\n",
            "exceptiongroup               1.2.0\n",
            "executing                    2.0.1\n",
            "fastjsonschema               2.19.1\n",
            "filelock                     3.13.4\n",
            "flatbuffers                  23.5.26\n",
            "fonttools                    4.47.2\n",
            "fqdn                         1.5.1\n",
            "funcy                        2.0\n",
            "gast                         0.5.4\n",
            "gensim                       4.3.2\n",
            "gitdb                        4.0.11\n",
            "GitPython                    3.1.41\n",
            "glcontext                    2.5.0\n",
            "google-auth                  2.27.0\n",
            "google-auth-oauthlib         1.2.0\n",
            "google-crc32c                1.5.0\n",
            "google-pasta                 0.2.0\n",
            "grpcio                       1.60.1\n",
            "h5py                         3.10.0\n",
            "idna                         3.6\n",
            "ifaddr                       0.2.0\n",
            "importlib-metadata           7.0.1\n",
            "imutils                      0.5.4\n",
            "installer                    0.7.0\n",
            "ipykernel                    6.28.0\n",
            "ipython                      8.20.0\n",
            "ipywidgets                   8.1.1\n",
            "isoduration                  20.11.0\n",
            "jaraco.classes               3.4.0\n",
            "jedi                         0.19.1\n",
            "Jinja2                       3.1.3\n",
            "joblib                       1.3.2\n",
            "json5                        0.9.14\n",
            "jsonpointer                  2.4\n",
            "jsonschema                   4.21.1\n",
            "jsonschema-specifications    2023.12.1\n",
            "jupyter                      1.0.0\n",
            "jupyter_client               8.6.0\n",
            "jupyter-console              6.6.3\n",
            "jupyter_core                 5.7.1\n",
            "jupyter-events               0.9.0\n",
            "jupyter-lsp                  2.2.2\n",
            "jupyter_server               2.12.5\n",
            "jupyter_server_terminals     0.5.2\n",
            "jupyterlab                   4.0.12\n",
            "jupyterlab_pygments          0.3.0\n",
            "jupyterlab_server            2.25.2\n",
            "jupyterlab-widgets           3.0.9\n",
            "keras                        2.15.0\n",
            "keyboard                     0.13.5\n",
            "keyring                      24.3.1\n",
            "kiwisolver                   1.4.5\n",
            "libclang                     16.0.6\n",
            "Markdown                     3.5.2\n",
            "markdown-it-py               3.0.0\n",
            "MarkupSafe                   2.1.3\n",
            "matplotlib                   3.8.2\n",
            "matplotlib-inline            0.1.6\n",
            "mdurl                        0.1.2\n",
            "mediapipe                    0.10.9\n",
            "mistune                      3.0.2\n",
            "ml-dtypes                    0.2.0\n",
            "moderngl                     5.10.0\n",
            "more-itertools               10.2.0\n",
            "msgpack                      1.0.8\n",
            "mypy                         1.8.0\n",
            "mypy-extensions              1.0.0\n",
            "nanocamera                   0.1.5\n",
            "nbclient                     0.9.0\n",
            "nbconvert                    7.14.2\n",
            "nbformat                     5.9.2\n",
            "nest-asyncio                 1.5.9\n",
            "notebook                     7.0.7\n",
            "notebook_shim                0.2.3\n",
            "numexpr                      2.8.8\n",
            "numpy                        1.26.3\n",
            "oauthlib                     3.2.2\n",
            "opencv-contrib-python        4.9.0.80\n",
            "opencv-python                4.9.0.80\n",
            "opt-einsum                   3.3.0\n",
            "overrides                    7.7.0\n",
            "packaging                    23.2\n",
            "paho-mqtt                    2.1.0\n",
            "pandas                       2.1.4\n",
            "pandocfilters                1.5.1\n",
            "parso                        0.8.3\n",
            "pexpect                      4.9.0\n",
            "pillow                       10.2.0\n",
            "pip                          24.0\n",
            "pkginfo                      1.10.0\n",
            "platformdirs                 4.1.0\n",
            "playsound                    1.3.0\n",
            "poetry                       1.8.2\n",
            "poetry-core                  1.9.0\n",
            "poetry-plugin-export         1.7.1\n",
            "prometheus-client            0.19.0\n",
            "prompt-toolkit               3.0.43\n",
            "protobuf                     3.20.3\n",
            "psutil                       5.9.7\n",
            "ptyprocess                   0.7.0\n",
            "pure-eval                    0.2.2\n",
            "pyarrow                      15.0.0\n",
            "pyasn1                       0.5.1\n",
            "pyasn1-modules               0.3.0\n",
            "pycparser                    2.21\n",
            "pydeck                       0.8.1b0\n",
            "pyee                         11.1.0\n",
            "pygame                       2.5.2\n",
            "pygame-ce                    2.4.1\n",
            "Pygments                     2.17.2\n",
            "pygwidgets                   1.1.2\n",
            "pyLDAvis                     3.4.1\n",
            "pylibsrtp                    0.10.0\n",
            "pyOpenSSL                    24.0.0\n",
            "pyparsing                    3.1.1\n",
            "pyproject_hooks              1.0.0\n",
            "pytesseract                  0.3.10\n",
            "pythainlp                    4.0.2\n",
            "python-dateutil              2.8.2\n",
            "python-json-logger           2.0.7\n",
            "pytz                         2023.3.post1\n",
            "pywin32                      306\n",
            "pywin32-ctypes               0.2.2\n",
            "pywinpty                     2.0.12\n",
            "PyYAML                       6.0.1\n",
            "pyzmq                        25.1.2\n",
            "qtconsole                    5.5.1\n",
            "QtPy                         2.4.1\n",
            "rapidfuzz                    3.8.1\n",
            "referencing                  0.33.0\n",
            "requests                     2.31.0\n",
            "requests-oauthlib            1.3.1\n",
            "requests-toolbelt            1.0.0\n",
            "rfc3339-validator            0.1.4\n",
            "rfc3986-validator            0.1.1\n",
            "rich                         13.7.0\n",
            "rpds-py                      0.17.1\n",
            "rsa                          4.9\n",
            "scikit-learn                 1.3.2\n",
            "scipy                        1.11.4\n",
            "seaborn                      0.13.2\n",
            "Send2Trash                   1.8.2\n",
            "setuptools                   63.2.0\n",
            "shellingham                  1.5.4\n",
            "six                          1.16.0\n",
            "smart-open                   6.4.0\n",
            "smmap                        5.0.1\n",
            "sniffio                      1.3.0\n",
            "sounddevice                  0.4.6\n",
            "soupsieve                    2.5\n",
            "stack-data                   0.6.3\n",
            "streamlit                    1.31.0\n",
            "streamlit-webrtc             0.47.1\n",
            "tenacity                     8.2.3\n",
            "tensorboard                  2.15.1\n",
            "tensorboard-data-server      0.7.2\n",
            "tensorflow                   2.15.0\n",
            "tensorflow-estimator         2.15.0\n",
            "tensorflow-intel             2.15.0\n",
            "tensorflow-io-gcs-filesystem 0.31.0\n",
            "termcolor                    2.4.0\n",
            "terminado                    0.18.0\n",
            "threadpoolctl                3.2.0\n",
            "tinycss2                     1.2.1\n",
            "toml                         0.10.2\n",
            "tomli                        2.0.1\n",
            "tomlkit                      0.12.4\n",
            "toolz                        0.12.1\n",
            "tornado                      6.4\n",
            "tqdm                         4.66.1\n",
            "traitlets                    5.14.1\n",
            "trove-classifiers            2024.4.10\n",
            "types-python-dateutil        2.8.19.20240106\n",
            "typing_extensions            4.9.0\n",
            "tzdata                       2023.4\n",
            "tzlocal                      5.2\n",
            "uri-template                 1.3.0\n",
            "urllib3                      2.1.0\n",
            "validators                   0.22.0\n",
            "virtualenv                   20.25.3\n",
            "watchdog                     3.0.0\n",
            "wcwidth                      0.2.13\n",
            "webcolors                    1.13\n",
            "webencodings                 0.5.1\n",
            "websocket-client             1.7.0\n",
            "Werkzeug                     3.0.1\n",
            "wheel                        0.42.0\n",
            "widgetsnbextension           4.0.9\n",
            "wrapt                        1.14.1\n",
            "zipp                         3.17.0\n"
          ]
        }
      ],
      "source": [
        "!pip list"
      ]
    },
    {
      "cell_type": "markdown",
      "metadata": {
        "id": "t2HDvhIu9hEr"
      },
      "source": [
        "# Specify each path"
      ]
    },
    {
      "cell_type": "code",
      "execution_count": 38,
      "metadata": {
        "id": "9NvZP2Zn9hEy"
      },
      "outputs": [],
      "source": [
        "dataset = 'model/keypoint_classifier/keypoint.csv'\n",
        "model_save_path = 'model/keypoint_classifier/keypoint_classifier.hdf5'\n",
        "tflite_save_path = 'model/keypoint_classifier/keypoint_classifier.tflite'"
      ]
    },
    {
      "cell_type": "markdown",
      "metadata": {
        "id": "s5oMH7x19hEz"
      },
      "source": [
        "# Set number of classes"
      ]
    },
    {
      "cell_type": "code",
      "execution_count": 39,
      "metadata": {
        "id": "du4kodXL9hEz"
      },
      "outputs": [],
      "source": [
        "NUM_CLASSES = 12"
      ]
    },
    {
      "cell_type": "markdown",
      "metadata": {
        "id": "XjnL0uso9hEz"
      },
      "source": [
        "# Dataset reading"
      ]
    },
    {
      "cell_type": "code",
      "execution_count": 40,
      "metadata": {
        "id": "QT5ZqtEz9hE0"
      },
      "outputs": [],
      "source": [
        "X_dataset = np.loadtxt(dataset, delimiter=',', dtype='float32', usecols=list(range(1, (21 * 2) + 1)))"
      ]
    },
    {
      "cell_type": "code",
      "execution_count": 41,
      "metadata": {
        "id": "QmoKFsp49hE0"
      },
      "outputs": [],
      "source": [
        "y_dataset = np.loadtxt(dataset, delimiter=',', dtype='int32', usecols=(0))"
      ]
    },
    {
      "cell_type": "code",
      "execution_count": 42,
      "metadata": {
        "id": "xQU7JTZ_9hE0"
      },
      "outputs": [],
      "source": [
        "X_train, X_test, y_train, y_test = train_test_split(X_dataset, y_dataset, train_size=0.75, random_state=RANDOM_SEED)"
      ]
    },
    {
      "cell_type": "markdown",
      "metadata": {
        "id": "mxK_lETT9hE0"
      },
      "source": [
        "# Model building"
      ]
    },
    {
      "cell_type": "code",
      "execution_count": 43,
      "metadata": {
        "id": "vHBmUf1t9hE1"
      },
      "outputs": [],
      "source": [
        "model = tf.keras.models.Sequential([\n",
        "    tf.keras.layers.Input((21 * 2, )),\n",
        "    tf.keras.layers.Dropout(0.2),\n",
        "    tf.keras.layers.Dense(20, activation='relu'),\n",
        "    tf.keras.layers.Dropout(0.4),\n",
        "    tf.keras.layers.Dense(10, activation='relu'),\n",
        "    tf.keras.layers.Dense(NUM_CLASSES, activation='softmax')\n",
        "])"
      ]
    },
    {
      "cell_type": "code",
      "execution_count": 44,
      "metadata": {
        "colab": {
          "base_uri": "https://localhost:8080/"
        },
        "id": "ypqky9tc9hE1",
        "outputId": "5db082bb-30e3-4110-bf63-a1ee777ecd46"
      },
      "outputs": [
        {
          "name": "stdout",
          "output_type": "stream",
          "text": [
            "Model: \"sequential_2\"\n",
            "_________________________________________________________________\n",
            " Layer (type)                Output Shape              Param #   \n",
            "=================================================================\n",
            " dropout_4 (Dropout)         (None, 42)                0         \n",
            "                                                                 \n",
            " dense_6 (Dense)             (None, 20)                860       \n",
            "                                                                 \n",
            " dropout_5 (Dropout)         (None, 20)                0         \n",
            "                                                                 \n",
            " dense_7 (Dense)             (None, 10)                210       \n",
            "                                                                 \n",
            " dense_8 (Dense)             (None, 12)                132       \n",
            "                                                                 \n",
            "=================================================================\n",
            "Total params: 1202 (4.70 KB)\n",
            "Trainable params: 1202 (4.70 KB)\n",
            "Non-trainable params: 0 (0.00 Byte)\n",
            "_________________________________________________________________\n"
          ]
        }
      ],
      "source": [
        "model.summary()  # tf.keras.utils.plot_model(model, show_shapes=True)"
      ]
    },
    {
      "cell_type": "code",
      "execution_count": 45,
      "metadata": {
        "id": "MbMjOflQ9hE1"
      },
      "outputs": [],
      "source": [
        "# Model checkpoint callback\n",
        "cp_callback = tf.keras.callbacks.ModelCheckpoint(\n",
        "    model_save_path, verbose=1, save_weights_only=False)\n",
        "# Callback for early stopping\n",
        "es_callback = tf.keras.callbacks.EarlyStopping(patience=20, verbose=1)"
      ]
    },
    {
      "cell_type": "code",
      "execution_count": 46,
      "metadata": {
        "id": "c3Dac0M_9hE2"
      },
      "outputs": [],
      "source": [
        "# Model compilation\n",
        "model.compile(\n",
        "    optimizer='adam',\n",
        "    loss='sparse_categorical_crossentropy',\n",
        "    metrics=['accuracy']\n",
        ")"
      ]
    },
    {
      "cell_type": "markdown",
      "metadata": {
        "id": "7XI0j1Iu9hE2"
      },
      "source": [
        "# Model training"
      ]
    },
    {
      "cell_type": "code",
      "execution_count": 47,
      "metadata": {
        "colab": {
          "base_uri": "https://localhost:8080/"
        },
        "id": "WirBl-JE9hE3",
        "outputId": "71b30ca2-8294-4d9d-8aa2-800d90d399de",
        "scrolled": true
      },
      "outputs": [
        {
          "name": "stdout",
          "output_type": "stream",
          "text": [
            "Epoch 1/1000\n",
            "61/61 [==============================] - 1s 4ms/step - loss: 2.5893 - accuracy: 0.1074 - val_loss: 2.3605 - val_accuracy: 0.2258\n",
            "Epoch 2/1000\n",
            "61/61 [==============================] - 0s 2ms/step - loss: 2.3091 - accuracy: 0.2215 - val_loss: 2.0956 - val_accuracy: 0.3496\n",
            "Epoch 3/1000\n",
            "61/61 [==============================] - 0s 2ms/step - loss: 2.0547 - accuracy: 0.2999 - val_loss: 1.7925 - val_accuracy: 0.3943\n",
            "Epoch 4/1000\n",
            "61/61 [==============================] - 0s 2ms/step - loss: 1.8446 - accuracy: 0.3426 - val_loss: 1.5699 - val_accuracy: 0.4936\n",
            "Epoch 5/1000\n",
            "61/61 [==============================] - 0s 2ms/step - loss: 1.6832 - accuracy: 0.3784 - val_loss: 1.3871 - val_accuracy: 0.5790\n",
            "Epoch 6/1000\n",
            "61/61 [==============================] - 0s 2ms/step - loss: 1.5599 - accuracy: 0.4131 - val_loss: 1.2493 - val_accuracy: 0.6232\n",
            "Epoch 7/1000\n",
            "61/61 [==============================] - 0s 2ms/step - loss: 1.4577 - accuracy: 0.4365 - val_loss: 1.1353 - val_accuracy: 0.6411\n",
            "Epoch 8/1000\n",
            "61/61 [==============================] - 0s 2ms/step - loss: 1.3707 - accuracy: 0.4634 - val_loss: 1.0535 - val_accuracy: 0.6438\n",
            "Epoch 9/1000\n",
            "61/61 [==============================] - 0s 2ms/step - loss: 1.3267 - accuracy: 0.4786 - val_loss: 1.0030 - val_accuracy: 0.6620\n",
            "Epoch 10/1000\n",
            "61/61 [==============================] - 0s 2ms/step - loss: 1.2717 - accuracy: 0.5059 - val_loss: 0.9525 - val_accuracy: 0.6857\n",
            "Epoch 11/1000\n",
            "61/61 [==============================] - 0s 2ms/step - loss: 1.2224 - accuracy: 0.5230 - val_loss: 0.9075 - val_accuracy: 0.7249\n",
            "Epoch 12/1000\n",
            "61/61 [==============================] - 0s 2ms/step - loss: 1.1861 - accuracy: 0.5447 - val_loss: 0.8603 - val_accuracy: 0.7602\n",
            "Epoch 13/1000\n",
            "61/61 [==============================] - 0s 2ms/step - loss: 1.1645 - accuracy: 0.5558 - val_loss: 0.8239 - val_accuracy: 0.7691\n",
            "Epoch 14/1000\n",
            "61/61 [==============================] - 0s 2ms/step - loss: 1.1408 - accuracy: 0.5585 - val_loss: 0.7737 - val_accuracy: 0.8021\n",
            "Epoch 15/1000\n",
            "61/61 [==============================] - 0s 2ms/step - loss: 1.1064 - accuracy: 0.5780 - val_loss: 0.7399 - val_accuracy: 0.8071\n",
            "Epoch 16/1000\n",
            "61/61 [==============================] - 0s 2ms/step - loss: 1.0756 - accuracy: 0.5961 - val_loss: 0.6990 - val_accuracy: 0.8421\n",
            "Epoch 17/1000\n",
            "61/61 [==============================] - 0s 2ms/step - loss: 1.0420 - accuracy: 0.5971 - val_loss: 0.6628 - val_accuracy: 0.8941\n",
            "Epoch 18/1000\n",
            "61/61 [==============================] - 0s 2ms/step - loss: 1.0353 - accuracy: 0.6042 - val_loss: 0.6461 - val_accuracy: 0.8316\n",
            "Epoch 19/1000\n",
            "61/61 [==============================] - 0s 2ms/step - loss: 1.0111 - accuracy: 0.6169 - val_loss: 0.6033 - val_accuracy: 0.9127\n",
            "Epoch 20/1000\n",
            "61/61 [==============================] - 0s 2ms/step - loss: 1.0007 - accuracy: 0.6157 - val_loss: 0.5895 - val_accuracy: 0.8820\n",
            "Epoch 21/1000\n",
            "61/61 [==============================] - 0s 2ms/step - loss: 0.9644 - accuracy: 0.6332 - val_loss: 0.5765 - val_accuracy: 0.8704\n",
            "Epoch 22/1000\n",
            "61/61 [==============================] - 0s 2ms/step - loss: 0.9586 - accuracy: 0.6388 - val_loss: 0.5441 - val_accuracy: 0.9321\n",
            "Epoch 23/1000\n",
            "61/61 [==============================] - 0s 2ms/step - loss: 0.9324 - accuracy: 0.6470 - val_loss: 0.5233 - val_accuracy: 0.9410\n",
            "Epoch 24/1000\n",
            "61/61 [==============================] - 0s 2ms/step - loss: 0.9303 - accuracy: 0.6545 - val_loss: 0.5204 - val_accuracy: 0.9329\n",
            "Epoch 25/1000\n",
            "61/61 [==============================] - 0s 2ms/step - loss: 0.9041 - accuracy: 0.6640 - val_loss: 0.4941 - val_accuracy: 0.9402\n",
            "Epoch 26/1000\n",
            "61/61 [==============================] - 0s 2ms/step - loss: 0.9006 - accuracy: 0.6619 - val_loss: 0.4932 - val_accuracy: 0.9344\n",
            "Epoch 27/1000\n",
            "61/61 [==============================] - 0s 2ms/step - loss: 0.8925 - accuracy: 0.6718 - val_loss: 0.4698 - val_accuracy: 0.9499\n",
            "Epoch 28/1000\n",
            "61/61 [==============================] - 0s 2ms/step - loss: 0.8979 - accuracy: 0.6626 - val_loss: 0.4627 - val_accuracy: 0.9527\n",
            "Epoch 29/1000\n",
            "61/61 [==============================] - 0s 2ms/step - loss: 0.8607 - accuracy: 0.6799 - val_loss: 0.4515 - val_accuracy: 0.9515\n",
            "Epoch 30/1000\n",
            "61/61 [==============================] - 0s 2ms/step - loss: 0.8634 - accuracy: 0.6714 - val_loss: 0.4589 - val_accuracy: 0.9399\n",
            "Epoch 31/1000\n",
            "61/61 [==============================] - 0s 2ms/step - loss: 0.8608 - accuracy: 0.6742 - val_loss: 0.4436 - val_accuracy: 0.9527\n",
            "Epoch 32/1000\n",
            "61/61 [==============================] - 0s 2ms/step - loss: 0.8497 - accuracy: 0.6846 - val_loss: 0.4313 - val_accuracy: 0.9569\n",
            "Epoch 33/1000\n",
            "61/61 [==============================] - 0s 2ms/step - loss: 0.8596 - accuracy: 0.6718 - val_loss: 0.4262 - val_accuracy: 0.9519\n",
            "Epoch 34/1000\n",
            "61/61 [==============================] - 0s 2ms/step - loss: 0.8389 - accuracy: 0.6875 - val_loss: 0.4201 - val_accuracy: 0.9542\n",
            "Epoch 35/1000\n",
            "61/61 [==============================] - 0s 2ms/step - loss: 0.8336 - accuracy: 0.6906 - val_loss: 0.4217 - val_accuracy: 0.9492\n",
            "Epoch 36/1000\n",
            "61/61 [==============================] - 0s 2ms/step - loss: 0.8240 - accuracy: 0.6917 - val_loss: 0.4120 - val_accuracy: 0.9519\n",
            "Epoch 37/1000\n",
            "61/61 [==============================] - 0s 2ms/step - loss: 0.8148 - accuracy: 0.6962 - val_loss: 0.3980 - val_accuracy: 0.9565\n",
            "Epoch 38/1000\n",
            "61/61 [==============================] - 0s 2ms/step - loss: 0.8023 - accuracy: 0.6987 - val_loss: 0.3835 - val_accuracy: 0.9589\n",
            "Epoch 39/1000\n",
            "61/61 [==============================] - 0s 2ms/step - loss: 0.8168 - accuracy: 0.6993 - val_loss: 0.3971 - val_accuracy: 0.9534\n",
            "Epoch 40/1000\n",
            "61/61 [==============================] - 0s 2ms/step - loss: 0.7896 - accuracy: 0.7047 - val_loss: 0.3612 - val_accuracy: 0.9612\n",
            "Epoch 41/1000\n",
            "61/61 [==============================] - 0s 2ms/step - loss: 0.7814 - accuracy: 0.7053 - val_loss: 0.3643 - val_accuracy: 0.9608\n",
            "Epoch 42/1000\n",
            "61/61 [==============================] - 0s 2ms/step - loss: 0.7950 - accuracy: 0.7001 - val_loss: 0.3716 - val_accuracy: 0.9554\n",
            "Epoch 43/1000\n",
            "61/61 [==============================] - 0s 2ms/step - loss: 0.7794 - accuracy: 0.7059 - val_loss: 0.3657 - val_accuracy: 0.9593\n",
            "Epoch 44/1000\n",
            "61/61 [==============================] - 0s 2ms/step - loss: 0.7612 - accuracy: 0.7160 - val_loss: 0.3557 - val_accuracy: 0.9604\n",
            "Epoch 45/1000\n",
            "61/61 [==============================] - 0s 2ms/step - loss: 0.7700 - accuracy: 0.7108 - val_loss: 0.3563 - val_accuracy: 0.9581\n",
            "Epoch 46/1000\n",
            "61/61 [==============================] - 0s 2ms/step - loss: 0.7671 - accuracy: 0.7151 - val_loss: 0.3616 - val_accuracy: 0.9585\n",
            "Epoch 47/1000\n",
            "61/61 [==============================] - 0s 2ms/step - loss: 0.7688 - accuracy: 0.7115 - val_loss: 0.3690 - val_accuracy: 0.9635\n",
            "Epoch 48/1000\n",
            "61/61 [==============================] - 0s 2ms/step - loss: 0.7507 - accuracy: 0.7249 - val_loss: 0.3415 - val_accuracy: 0.9620\n",
            "Epoch 49/1000\n",
            "61/61 [==============================] - 0s 2ms/step - loss: 0.7724 - accuracy: 0.7115 - val_loss: 0.3585 - val_accuracy: 0.9577\n",
            "Epoch 50/1000\n",
            "61/61 [==============================] - 0s 2ms/step - loss: 0.7535 - accuracy: 0.7205 - val_loss: 0.3408 - val_accuracy: 0.9639\n",
            "Epoch 51/1000\n",
            "61/61 [==============================] - 0s 2ms/step - loss: 0.7477 - accuracy: 0.7253 - val_loss: 0.3424 - val_accuracy: 0.9631\n",
            "Epoch 52/1000\n",
            "61/61 [==============================] - 0s 2ms/step - loss: 0.7419 - accuracy: 0.7190 - val_loss: 0.3410 - val_accuracy: 0.9643\n",
            "Epoch 53/1000\n",
            "61/61 [==============================] - 0s 2ms/step - loss: 0.7378 - accuracy: 0.7233 - val_loss: 0.3368 - val_accuracy: 0.9608\n",
            "Epoch 54/1000\n",
            "61/61 [==============================] - 0s 2ms/step - loss: 0.7320 - accuracy: 0.7244 - val_loss: 0.3233 - val_accuracy: 0.9647\n",
            "Epoch 55/1000\n",
            "61/61 [==============================] - 0s 2ms/step - loss: 0.7381 - accuracy: 0.7260 - val_loss: 0.3379 - val_accuracy: 0.9655\n",
            "Epoch 56/1000\n",
            "61/61 [==============================] - 0s 2ms/step - loss: 0.7364 - accuracy: 0.7353 - val_loss: 0.3189 - val_accuracy: 0.9635\n",
            "Epoch 57/1000\n",
            "61/61 [==============================] - 0s 2ms/step - loss: 0.7383 - accuracy: 0.7279 - val_loss: 0.3351 - val_accuracy: 0.9624\n",
            "Epoch 58/1000\n",
            "61/61 [==============================] - 0s 2ms/step - loss: 0.7273 - accuracy: 0.7336 - val_loss: 0.3274 - val_accuracy: 0.9635\n",
            "Epoch 59/1000\n",
            "61/61 [==============================] - 0s 2ms/step - loss: 0.7431 - accuracy: 0.7242 - val_loss: 0.3239 - val_accuracy: 0.9631\n",
            "Epoch 60/1000\n",
            "61/61 [==============================] - 0s 2ms/step - loss: 0.7142 - accuracy: 0.7344 - val_loss: 0.3183 - val_accuracy: 0.9639\n",
            "Epoch 61/1000\n",
            "61/61 [==============================] - 0s 2ms/step - loss: 0.7174 - accuracy: 0.7383 - val_loss: 0.3101 - val_accuracy: 0.9643\n",
            "Epoch 62/1000\n",
            "61/61 [==============================] - 0s 2ms/step - loss: 0.7161 - accuracy: 0.7361 - val_loss: 0.3207 - val_accuracy: 0.9620\n",
            "Epoch 63/1000\n",
            "61/61 [==============================] - 0s 2ms/step - loss: 0.6941 - accuracy: 0.7401 - val_loss: 0.3040 - val_accuracy: 0.9674\n",
            "Epoch 64/1000\n",
            "61/61 [==============================] - 0s 2ms/step - loss: 0.7241 - accuracy: 0.7342 - val_loss: 0.3263 - val_accuracy: 0.9728\n",
            "Epoch 65/1000\n",
            "61/61 [==============================] - 0s 2ms/step - loss: 0.7011 - accuracy: 0.7432 - val_loss: 0.3002 - val_accuracy: 0.9624\n",
            "Epoch 66/1000\n",
            "61/61 [==============================] - 0s 2ms/step - loss: 0.6935 - accuracy: 0.7401 - val_loss: 0.3071 - val_accuracy: 0.9678\n",
            "Epoch 67/1000\n",
            "61/61 [==============================] - 0s 2ms/step - loss: 0.7118 - accuracy: 0.7375 - val_loss: 0.3055 - val_accuracy: 0.9709\n",
            "Epoch 68/1000\n",
            "61/61 [==============================] - 0s 2ms/step - loss: 0.6902 - accuracy: 0.7462 - val_loss: 0.3150 - val_accuracy: 0.9670\n",
            "Epoch 69/1000\n",
            "61/61 [==============================] - 0s 2ms/step - loss: 0.7020 - accuracy: 0.7425 - val_loss: 0.2985 - val_accuracy: 0.9643\n",
            "Epoch 70/1000\n",
            "61/61 [==============================] - 0s 2ms/step - loss: 0.6841 - accuracy: 0.7473 - val_loss: 0.2967 - val_accuracy: 0.9659\n",
            "Epoch 71/1000\n",
            "61/61 [==============================] - 0s 2ms/step - loss: 0.6891 - accuracy: 0.7399 - val_loss: 0.3077 - val_accuracy: 0.9624\n",
            "Epoch 72/1000\n",
            "61/61 [==============================] - 0s 2ms/step - loss: 0.6858 - accuracy: 0.7516 - val_loss: 0.3060 - val_accuracy: 0.9655\n",
            "Epoch 73/1000\n",
            "61/61 [==============================] - 0s 2ms/step - loss: 0.6776 - accuracy: 0.7480 - val_loss: 0.2996 - val_accuracy: 0.9659\n",
            "Epoch 74/1000\n",
            "61/61 [==============================] - 0s 2ms/step - loss: 0.6726 - accuracy: 0.7560 - val_loss: 0.3049 - val_accuracy: 0.9631\n",
            "Epoch 75/1000\n",
            "61/61 [==============================] - 0s 2ms/step - loss: 0.6633 - accuracy: 0.7522 - val_loss: 0.2815 - val_accuracy: 0.9693\n",
            "Epoch 76/1000\n",
            "61/61 [==============================] - 0s 2ms/step - loss: 0.6637 - accuracy: 0.7526 - val_loss: 0.2939 - val_accuracy: 0.9686\n",
            "Epoch 77/1000\n",
            "61/61 [==============================] - 0s 2ms/step - loss: 0.6837 - accuracy: 0.7408 - val_loss: 0.2951 - val_accuracy: 0.9701\n",
            "Epoch 78/1000\n",
            "61/61 [==============================] - 0s 2ms/step - loss: 0.6628 - accuracy: 0.7534 - val_loss: 0.2978 - val_accuracy: 0.9678\n",
            "Epoch 79/1000\n",
            "61/61 [==============================] - 0s 2ms/step - loss: 0.6788 - accuracy: 0.7452 - val_loss: 0.2898 - val_accuracy: 0.9659\n",
            "Epoch 80/1000\n",
            "61/61 [==============================] - 0s 2ms/step - loss: 0.6651 - accuracy: 0.7496 - val_loss: 0.2807 - val_accuracy: 0.9635\n",
            "Epoch 81/1000\n",
            "61/61 [==============================] - 0s 2ms/step - loss: 0.6563 - accuracy: 0.7565 - val_loss: 0.2860 - val_accuracy: 0.9627\n",
            "Epoch 82/1000\n",
            "61/61 [==============================] - 0s 2ms/step - loss: 0.6581 - accuracy: 0.7547 - val_loss: 0.2926 - val_accuracy: 0.9608\n",
            "Epoch 83/1000\n",
            "61/61 [==============================] - 0s 2ms/step - loss: 0.6508 - accuracy: 0.7569 - val_loss: 0.2783 - val_accuracy: 0.9651\n",
            "Epoch 84/1000\n",
            "61/61 [==============================] - 0s 2ms/step - loss: 0.6549 - accuracy: 0.7588 - val_loss: 0.2826 - val_accuracy: 0.9655\n",
            "Epoch 85/1000\n",
            "61/61 [==============================] - 0s 2ms/step - loss: 0.6393 - accuracy: 0.7650 - val_loss: 0.2730 - val_accuracy: 0.9585\n",
            "Epoch 86/1000\n",
            "61/61 [==============================] - 0s 2ms/step - loss: 0.6462 - accuracy: 0.7587 - val_loss: 0.2827 - val_accuracy: 0.9627\n",
            "Epoch 87/1000\n",
            "61/61 [==============================] - 0s 2ms/step - loss: 0.6614 - accuracy: 0.7526 - val_loss: 0.2797 - val_accuracy: 0.9655\n",
            "Epoch 88/1000\n",
            "61/61 [==============================] - 0s 2ms/step - loss: 0.6402 - accuracy: 0.7675 - val_loss: 0.2735 - val_accuracy: 0.9678\n",
            "Epoch 89/1000\n",
            "61/61 [==============================] - 0s 2ms/step - loss: 0.6279 - accuracy: 0.7680 - val_loss: 0.2749 - val_accuracy: 0.9651\n",
            "Epoch 90/1000\n",
            "61/61 [==============================] - 0s 2ms/step - loss: 0.6554 - accuracy: 0.7560 - val_loss: 0.2878 - val_accuracy: 0.9639\n",
            "Epoch 91/1000\n",
            "61/61 [==============================] - 0s 2ms/step - loss: 0.6428 - accuracy: 0.7571 - val_loss: 0.2760 - val_accuracy: 0.9616\n",
            "Epoch 92/1000\n",
            "61/61 [==============================] - 0s 2ms/step - loss: 0.6250 - accuracy: 0.7692 - val_loss: 0.2775 - val_accuracy: 0.9639\n",
            "Epoch 93/1000\n",
            "61/61 [==============================] - 0s 2ms/step - loss: 0.6424 - accuracy: 0.7614 - val_loss: 0.2772 - val_accuracy: 0.9624\n",
            "Epoch 94/1000\n",
            "61/61 [==============================] - 0s 2ms/step - loss: 0.6428 - accuracy: 0.7665 - val_loss: 0.2717 - val_accuracy: 0.9631\n",
            "Epoch 95/1000\n",
            "61/61 [==============================] - 0s 2ms/step - loss: 0.6356 - accuracy: 0.7659 - val_loss: 0.2719 - val_accuracy: 0.9604\n",
            "Epoch 96/1000\n",
            "61/61 [==============================] - 0s 2ms/step - loss: 0.6328 - accuracy: 0.7627 - val_loss: 0.2902 - val_accuracy: 0.9627\n",
            "Epoch 97/1000\n",
            "61/61 [==============================] - 0s 2ms/step - loss: 0.6266 - accuracy: 0.7612 - val_loss: 0.2752 - val_accuracy: 0.9651\n",
            "Epoch 98/1000\n",
            "61/61 [==============================] - 0s 2ms/step - loss: 0.6362 - accuracy: 0.7680 - val_loss: 0.2762 - val_accuracy: 0.9647\n",
            "Epoch 99/1000\n",
            "61/61 [==============================] - 0s 2ms/step - loss: 0.6268 - accuracy: 0.7675 - val_loss: 0.2735 - val_accuracy: 0.9662\n",
            "Epoch 100/1000\n",
            "61/61 [==============================] - 0s 2ms/step - loss: 0.6245 - accuracy: 0.7681 - val_loss: 0.2898 - val_accuracy: 0.9562\n",
            "Epoch 101/1000\n",
            "61/61 [==============================] - 0s 2ms/step - loss: 0.6205 - accuracy: 0.7697 - val_loss: 0.2639 - val_accuracy: 0.9647\n",
            "Epoch 102/1000\n",
            "61/61 [==============================] - 0s 2ms/step - loss: 0.6358 - accuracy: 0.7702 - val_loss: 0.2755 - val_accuracy: 0.9651\n",
            "Epoch 103/1000\n",
            "61/61 [==============================] - 0s 2ms/step - loss: 0.6244 - accuracy: 0.7656 - val_loss: 0.2722 - val_accuracy: 0.9674\n",
            "Epoch 104/1000\n",
            "61/61 [==============================] - 0s 2ms/step - loss: 0.6003 - accuracy: 0.7780 - val_loss: 0.2724 - val_accuracy: 0.9693\n",
            "Epoch 105/1000\n",
            "61/61 [==============================] - 0s 2ms/step - loss: 0.6325 - accuracy: 0.7615 - val_loss: 0.2844 - val_accuracy: 0.9565\n",
            "Epoch 106/1000\n",
            "61/61 [==============================] - 0s 2ms/step - loss: 0.6124 - accuracy: 0.7696 - val_loss: 0.2773 - val_accuracy: 0.9581\n",
            "Epoch 107/1000\n",
            "61/61 [==============================] - 0s 2ms/step - loss: 0.5937 - accuracy: 0.7811 - val_loss: 0.2562 - val_accuracy: 0.9624\n",
            "Epoch 108/1000\n",
            "61/61 [==============================] - 0s 2ms/step - loss: 0.6158 - accuracy: 0.7689 - val_loss: 0.2684 - val_accuracy: 0.9593\n",
            "Epoch 109/1000\n",
            "61/61 [==============================] - 0s 2ms/step - loss: 0.6012 - accuracy: 0.7768 - val_loss: 0.2665 - val_accuracy: 0.9674\n",
            "Epoch 110/1000\n",
            "61/61 [==============================] - 0s 2ms/step - loss: 0.6153 - accuracy: 0.7725 - val_loss: 0.2651 - val_accuracy: 0.9643\n",
            "Epoch 111/1000\n",
            "61/61 [==============================] - 0s 2ms/step - loss: 0.5987 - accuracy: 0.7789 - val_loss: 0.2664 - val_accuracy: 0.9608\n",
            "Epoch 112/1000\n",
            "61/61 [==============================] - 0s 2ms/step - loss: 0.6024 - accuracy: 0.7733 - val_loss: 0.2683 - val_accuracy: 0.9573\n",
            "Epoch 113/1000\n",
            "61/61 [==============================] - 0s 2ms/step - loss: 0.5931 - accuracy: 0.7762 - val_loss: 0.2551 - val_accuracy: 0.9620\n",
            "Epoch 114/1000\n",
            "61/61 [==============================] - 0s 2ms/step - loss: 0.6033 - accuracy: 0.7780 - val_loss: 0.2649 - val_accuracy: 0.9647\n",
            "Epoch 115/1000\n",
            "61/61 [==============================] - 0s 2ms/step - loss: 0.5803 - accuracy: 0.7866 - val_loss: 0.2578 - val_accuracy: 0.9635\n",
            "Epoch 116/1000\n",
            "61/61 [==============================] - 0s 2ms/step - loss: 0.6096 - accuracy: 0.7720 - val_loss: 0.2774 - val_accuracy: 0.9643\n",
            "Epoch 117/1000\n",
            "61/61 [==============================] - 0s 2ms/step - loss: 0.5972 - accuracy: 0.7794 - val_loss: 0.2529 - val_accuracy: 0.9697\n",
            "Epoch 118/1000\n",
            "61/61 [==============================] - 0s 2ms/step - loss: 0.6011 - accuracy: 0.7829 - val_loss: 0.2625 - val_accuracy: 0.9631\n",
            "Epoch 119/1000\n",
            "61/61 [==============================] - 0s 2ms/step - loss: 0.5908 - accuracy: 0.7820 - val_loss: 0.2625 - val_accuracy: 0.9635\n",
            "Epoch 120/1000\n",
            "61/61 [==============================] - 0s 2ms/step - loss: 0.5656 - accuracy: 0.7838 - val_loss: 0.2566 - val_accuracy: 0.9639\n",
            "Epoch 121/1000\n",
            "61/61 [==============================] - 0s 2ms/step - loss: 0.6038 - accuracy: 0.7802 - val_loss: 0.2777 - val_accuracy: 0.9620\n",
            "Epoch 122/1000\n",
            "61/61 [==============================] - 0s 2ms/step - loss: 0.5861 - accuracy: 0.7860 - val_loss: 0.2607 - val_accuracy: 0.9624\n",
            "Epoch 123/1000\n",
            "61/61 [==============================] - 0s 2ms/step - loss: 0.5904 - accuracy: 0.7828 - val_loss: 0.2433 - val_accuracy: 0.9635\n",
            "Epoch 124/1000\n",
            "61/61 [==============================] - 0s 2ms/step - loss: 0.5803 - accuracy: 0.7890 - val_loss: 0.2573 - val_accuracy: 0.9639\n",
            "Epoch 125/1000\n",
            "61/61 [==============================] - 0s 2ms/step - loss: 0.5807 - accuracy: 0.7815 - val_loss: 0.2542 - val_accuracy: 0.9643\n",
            "Epoch 126/1000\n",
            "61/61 [==============================] - 0s 2ms/step - loss: 0.5918 - accuracy: 0.7772 - val_loss: 0.2655 - val_accuracy: 0.9647\n",
            "Epoch 127/1000\n",
            "61/61 [==============================] - 0s 2ms/step - loss: 0.5690 - accuracy: 0.7895 - val_loss: 0.2329 - val_accuracy: 0.9670\n",
            "Epoch 128/1000\n",
            "61/61 [==============================] - 0s 2ms/step - loss: 0.5684 - accuracy: 0.7891 - val_loss: 0.2526 - val_accuracy: 0.9651\n",
            "Epoch 129/1000\n",
            "61/61 [==============================] - 0s 2ms/step - loss: 0.5753 - accuracy: 0.7873 - val_loss: 0.2411 - val_accuracy: 0.9655\n",
            "Epoch 130/1000\n",
            "61/61 [==============================] - 0s 2ms/step - loss: 0.5773 - accuracy: 0.7878 - val_loss: 0.2627 - val_accuracy: 0.9596\n",
            "Epoch 131/1000\n",
            "61/61 [==============================] - 0s 2ms/step - loss: 0.5932 - accuracy: 0.7810 - val_loss: 0.2629 - val_accuracy: 0.9639\n",
            "Epoch 132/1000\n",
            "61/61 [==============================] - 0s 2ms/step - loss: 0.5849 - accuracy: 0.7793 - val_loss: 0.2570 - val_accuracy: 0.9624\n",
            "Epoch 133/1000\n",
            "61/61 [==============================] - 0s 2ms/step - loss: 0.5788 - accuracy: 0.7878 - val_loss: 0.2580 - val_accuracy: 0.9581\n",
            "Epoch 134/1000\n",
            "61/61 [==============================] - 0s 2ms/step - loss: 0.5836 - accuracy: 0.7826 - val_loss: 0.2568 - val_accuracy: 0.9635\n",
            "Epoch 135/1000\n",
            "61/61 [==============================] - 0s 2ms/step - loss: 0.5693 - accuracy: 0.7850 - val_loss: 0.2426 - val_accuracy: 0.9659\n",
            "Epoch 136/1000\n",
            "61/61 [==============================] - 0s 2ms/step - loss: 0.5717 - accuracy: 0.7874 - val_loss: 0.2583 - val_accuracy: 0.9593\n",
            "Epoch 137/1000\n",
            "61/61 [==============================] - 0s 2ms/step - loss: 0.5836 - accuracy: 0.7873 - val_loss: 0.2585 - val_accuracy: 0.9631\n",
            "Epoch 138/1000\n",
            "61/61 [==============================] - 0s 2ms/step - loss: 0.5688 - accuracy: 0.7879 - val_loss: 0.2459 - val_accuracy: 0.9600\n",
            "Epoch 139/1000\n",
            "61/61 [==============================] - 0s 2ms/step - loss: 0.5754 - accuracy: 0.7872 - val_loss: 0.2589 - val_accuracy: 0.9659\n",
            "Epoch 140/1000\n",
            "61/61 [==============================] - 0s 2ms/step - loss: 0.5694 - accuracy: 0.7958 - val_loss: 0.2393 - val_accuracy: 0.9670\n",
            "Epoch 141/1000\n",
            "61/61 [==============================] - 0s 2ms/step - loss: 0.5708 - accuracy: 0.7895 - val_loss: 0.2644 - val_accuracy: 0.9519\n",
            "Epoch 142/1000\n",
            "61/61 [==============================] - 0s 2ms/step - loss: 0.5647 - accuracy: 0.7907 - val_loss: 0.2525 - val_accuracy: 0.9651\n",
            "Epoch 143/1000\n",
            "61/61 [==============================] - 0s 2ms/step - loss: 0.5657 - accuracy: 0.7922 - val_loss: 0.2648 - val_accuracy: 0.9550\n",
            "Epoch 144/1000\n",
            "61/61 [==============================] - 0s 2ms/step - loss: 0.5879 - accuracy: 0.7819 - val_loss: 0.2566 - val_accuracy: 0.9596\n",
            "Epoch 145/1000\n",
            "61/61 [==============================] - 0s 2ms/step - loss: 0.5749 - accuracy: 0.7939 - val_loss: 0.2481 - val_accuracy: 0.9600\n",
            "Epoch 146/1000\n",
            "61/61 [==============================] - 0s 2ms/step - loss: 0.5636 - accuracy: 0.7936 - val_loss: 0.2492 - val_accuracy: 0.9550\n",
            "Epoch 147/1000\n",
            "61/61 [==============================] - 0s 2ms/step - loss: 0.5607 - accuracy: 0.7927 - val_loss: 0.2607 - val_accuracy: 0.9589\n",
            "Epoch 147: early stopping\n"
          ]
        },
        {
          "data": {
            "text/plain": [
              "<keras.src.callbacks.History at 0x1b66edeaa10>"
            ]
          },
          "execution_count": 47,
          "metadata": {},
          "output_type": "execute_result"
        }
      ],
      "source": [
        "model.fit(\n",
        "    X_train,\n",
        "    y_train,\n",
        "    epochs=1000,\n",
        "    batch_size=128,\n",
        "    validation_data=(X_test, y_test),\n",
        "    callbacks=[es_callback]\n",
        ")"
      ]
    },
    {
      "cell_type": "code",
      "execution_count": 48,
      "metadata": {
        "colab": {
          "base_uri": "https://localhost:8080/"
        },
        "id": "pxvb2Y299hE3",
        "outputId": "59eb3185-2e37-4b9e-bc9d-ab1b8ac29b7f"
      },
      "outputs": [
        {
          "name": "stdout",
          "output_type": "stream",
          "text": [
            "21/21 [==============================] - 0s 900us/step - loss: 0.2607 - accuracy: 0.9589\n"
          ]
        }
      ],
      "source": [
        "# Model evaluation\n",
        "val_loss, val_acc = model.evaluate(X_test, y_test, batch_size=128)"
      ]
    },
    {
      "cell_type": "code",
      "execution_count": 49,
      "metadata": {
        "id": "RBkmDeUW9hE4"
      },
      "outputs": [
        {
          "name": "stdout",
          "output_type": "stream",
          "text": [
            "WARNING:tensorflow:No training configuration found in the save file, so the model was *not* compiled. Compile it manually.\n"
          ]
        },
        {
          "name": "stderr",
          "output_type": "stream",
          "text": [
            "WARNING:tensorflow:No training configuration found in the save file, so the model was *not* compiled. Compile it manually.\n"
          ]
        }
      ],
      "source": [
        "# Loading the saved model\n",
        "model = tf.keras.models.load_model(model_save_path)"
      ]
    },
    {
      "cell_type": "code",
      "execution_count": 50,
      "metadata": {
        "colab": {
          "base_uri": "https://localhost:8080/"
        },
        "id": "tFz9Tb0I9hE4",
        "outputId": "1c3b3528-54ae-4ee2-ab04-77429211cbef"
      },
      "outputs": [
        {
          "name": "stdout",
          "output_type": "stream",
          "text": [
            "1/1 [==============================] - 0s 42ms/step\n",
            "[8.2752840e-06 5.7677003e-03 1.4351083e-03 3.2325145e-03 9.8208815e-01\n",
            " 4.2559484e-05 4.7294228e-04 1.4954695e-05 8.5188652e-04 4.7576651e-03\n",
            " 3.0401213e-09 1.3282584e-03]\n",
            "4\n"
          ]
        }
      ],
      "source": [
        "# Inference test\n",
        "predict_result = model.predict(np.array([X_test[0]]))\n",
        "print(np.squeeze(predict_result))\n",
        "print(np.argmax(np.squeeze(predict_result)))"
      ]
    },
    {
      "cell_type": "markdown",
      "metadata": {
        "id": "S3U4yNWx9hE4"
      },
      "source": [
        "# Confusion matrix"
      ]
    },
    {
      "cell_type": "code",
      "execution_count": 51,
      "metadata": {
        "colab": {
          "base_uri": "https://localhost:8080/",
          "height": 582
        },
        "id": "AP1V6SCk9hE5",
        "outputId": "08e41a80-7a4a-4619-8125-ecc371368d19"
      },
      "outputs": [
        {
          "name": "stdout",
          "output_type": "stream",
          "text": [
            "81/81 [==============================] - 0s 685us/step\n"
          ]
        },
        {
          "data": {
            "image/png": "[encoded data removed]",
            "text/plain": [
              "<Figure size 700x600 with 2 Axes>"
            ]
          },
          "metadata": {},
          "output_type": "display_data"
        },
        {
          "name": "stdout",
          "output_type": "stream",
          "text": [
            "Classification Report\n",
            "              precision    recall  f1-score   support\n",
            "\n",
            "           0       0.85      0.97      0.91       158\n",
            "           1       0.99      0.68      0.80       591\n",
            "           2       0.70      0.99      0.82       376\n",
            "           3       0.99      0.97      0.98       283\n",
            "           4       1.00      1.00      1.00       207\n",
            "           5       0.94      0.99      0.97       155\n",
            "           6       0.94      1.00      0.97       127\n",
            "           7       0.97      1.00      0.99       198\n",
            "           8       0.97      0.97      0.97       253\n",
            "           9       0.96      0.92      0.94       172\n",
            "          11       1.00      1.00      1.00        57\n",
            "\n",
            "    accuracy                           0.91      2577\n",
            "   macro avg       0.94      0.95      0.94      2577\n",
            "weighted avg       0.93      0.91      0.91      2577\n",
            "\n"
          ]
        }
      ],
      "source": [
        "import pandas as pd\n",
        "import seaborn as sns\n",
        "import matplotlib.pyplot as plt\n",
        "from sklearn.metrics import confusion_matrix, classification_report\n",
        "\n",
        "def print_confusion_matrix(y_true, y_pred, report=True):\n",
        "    labels = sorted(list(set(y_true)))\n",
        "    cmx_data = confusion_matrix(y_true, y_pred, labels=labels)\n",
        "    \n",
        "    df_cmx = pd.DataFrame(cmx_data, index=labels, columns=labels)\n",
        " \n",
        "    fig, ax = plt.subplots(figsize=(7, 6))\n",
        "    sns.heatmap(df_cmx, annot=True, fmt='g' ,square=False)\n",
        "    ax.set_ylim(len(set(y_true)), 0)\n",
        "    plt.show()\n",
        "    \n",
        "    if report:\n",
        "        print('Classification Report')\n",
        "        print(classification_report(y_test, y_pred))\n",
        "\n",
        "Y_pred = model.predict(X_test)\n",
        "y_pred = np.argmax(Y_pred, axis=1)\n",
        "\n",
        "print_confusion_matrix(y_test, y_pred)"
      ]
    },
    {
      "cell_type": "markdown",
      "metadata": {
        "id": "FNP6aqzc9hE5"
      },
      "source": [
        "# Convert to model for Tensorflow-Lite"
      ]
    },
    {
      "cell_type": "code",
      "execution_count": 52,
      "metadata": {
        "id": "ODjnYyld9hE6"
      },
      "outputs": [
        {
          "name": "stdout",
          "output_type": "stream",
          "text": [
            "WARNING:tensorflow:Compiled the loaded model, but the compiled metrics have yet to be built. `model.compile_metrics` will be empty until you train or evaluate the model.\n"
          ]
        },
        {
          "name": "stderr",
          "output_type": "stream",
          "text": [
            "c:\\Python\\lib\\site-packages\\keras\\src\\engine\\training.py:3103: UserWarning: You are saving your model as an HDF5 file via `model.save()`. This file format is considered legacy. We recommend using instead the native Keras format, e.g. `model.save('my_model.keras')`.\n",
            "  saving_api.save_model(\n",
            "WARNING:tensorflow:Compiled the loaded model, but the compiled metrics have yet to be built. `model.compile_metrics` will be empty until you train or evaluate the model.\n"
          ]
        }
      ],
      "source": [
        "# Save as a model dedicated to inference\n",
        "model.save(model_save_path, include_optimizer=False)"
      ]
    },
    {
      "cell_type": "code",
      "execution_count": 53,
      "metadata": {
        "colab": {
          "base_uri": "https://localhost:8080/"
        },
        "id": "zRfuK8Y59hE6",
        "outputId": "a4ca585c-b5d5-4244-8291-8674063209bb"
      },
      "outputs": [
        {
          "name": "stdout",
          "output_type": "stream",
          "text": [
            "INFO:tensorflow:Assets written to: C:\\Users\\K0NQ\\AppData\\Local\\Temp\\tmp2ee8i4cq\\assets\n"
          ]
        },
        {
          "name": "stderr",
          "output_type": "stream",
          "text": [
            "INFO:tensorflow:Assets written to: C:\\Users\\K0NQ\\AppData\\Local\\Temp\\tmp2ee8i4cq\\assets\n"
          ]
        },
        {
          "data": {
            "text/plain": [
              "6964"
            ]
          },
          "execution_count": 53,
          "metadata": {},
          "output_type": "execute_result"
        }
      ],
      "source": [
        "# Transform model (quantization)\n",
        "\n",
        "converter = tf.lite.TFLiteConverter.from_keras_model(model)\n",
        "converter.optimizations = [tf.lite.Optimize.DEFAULT]\n",
        "tflite_quantized_model = converter.convert()\n",
        "\n",
        "open(tflite_save_path, 'wb').write(tflite_quantized_model)"
      ]
    },
    {
      "cell_type": "markdown",
      "metadata": {
        "id": "CHBPBXdx9hE6"
      },
      "source": [
        "# Inference test"
      ]
    },
    {
      "cell_type": "code",
      "execution_count": 54,
      "metadata": {
        "id": "mGAzLocO9hE7"
      },
      "outputs": [],
      "source": [
        "interpreter = tf.lite.Interpreter(model_path=tflite_save_path)\n",
        "interpreter.allocate_tensors()"
      ]
    },
    {
      "cell_type": "code",
      "execution_count": 55,
      "metadata": {
        "id": "oQuDK8YS9hE7"
      },
      "outputs": [],
      "source": [
        "# Get I / O tensor\n",
        "input_details = interpreter.get_input_details()\n",
        "output_details = interpreter.get_output_details()"
      ]
    },
    {
      "cell_type": "code",
      "execution_count": 56,
      "metadata": {
        "id": "2_ixAf_l9hE7"
      },
      "outputs": [],
      "source": [
        "interpreter.set_tensor(input_details[0]['index'], np.array([X_test[0]]))"
      ]
    },
    {
      "cell_type": "code",
      "execution_count": 57,
      "metadata": {
        "colab": {
          "base_uri": "https://localhost:8080/"
        },
        "id": "s4FoAnuc9hE7",
        "outputId": "91f18257-8d8b-4ef3-c558-e9b5f94fabbf",
        "scrolled": true
      },
      "outputs": [
        {
          "name": "stdout",
          "output_type": "stream",
          "text": [
            "CPU times: total: 0 ns\n",
            "Wall time: 0 ns\n"
          ]
        }
      ],
      "source": [
        "%%time\n",
        "# Inference implementation\n",
        "interpreter.invoke()\n",
        "tflite_results = interpreter.get_tensor(output_details[0]['index'])"
      ]
    },
    {
      "cell_type": "code",
      "execution_count": 58,
      "metadata": {
        "colab": {
          "base_uri": "https://localhost:8080/"
        },
        "id": "vONjp19J9hE8",
        "outputId": "77205e24-fd00-42c4-f7b6-e06e527c2cba"
      },
      "outputs": [
        {
          "name": "stdout",
          "output_type": "stream",
          "text": [
            "[8.2752840e-06 5.7676970e-03 1.4351060e-03 3.2325131e-03 9.8208815e-01\n",
            " 4.2559484e-05 4.7294228e-04 1.4954695e-05 8.5188565e-04 4.7576604e-03\n",
            " 3.0401213e-09 1.3282590e-03]\n",
            "4\n"
          ]
        }
      ],
      "source": [
        "print(np.squeeze(tflite_results))\n",
        "print(np.argmax(np.squeeze(tflite_results)))"
      ]
    }
  ],
  "metadata": {
    "accelerator": "GPU",
    "colab": {
      "collapsed_sections": [],
      "name": "keypoint_classification_EN.ipynb",
      "provenance": [],
      "toc_visible": true
    },
    "kernelspec": {
      "display_name": "Python 3",
      "language": "python",
      "name": "python3"
    },
    "language_info": {
      "codemirror_mode": {
        "name": "ipython",
        "version": 3
      },
      "file_extension": ".py",
      "mimetype": "text/x-python",
      "name": "python",
      "nbconvert_exporter": "python",
      "pygments_lexer": "ipython3",
      "version": "3.10.8"
    }
  },
  "nbformat": 4,
  "nbformat_minor": 0
}
