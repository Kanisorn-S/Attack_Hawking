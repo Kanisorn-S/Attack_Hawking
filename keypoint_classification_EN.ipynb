{
  "cells": [
    {
      "cell_type": "code",
      "execution_count": 47,
      "metadata": {
        "id": "igMyGnjE9hEp"
      },
      "outputs": [],
      "source": [
        "import csv\n",
        "\n",
        "import numpy as np\n",
        "import tensorflow as tf\n",
        "from sklearn.model_selection import train_test_split\n",
        "\n",
        "RANDOM_SEED = 42"
      ]
    },
    {
      "cell_type": "code",
      "execution_count": 48,
      "metadata": {},
      "outputs": [
        {
          "name": "stdout",
          "output_type": "stream",
          "text": [
            "Package                 Version\n",
            "----------------------- --------\n",
            "absl-py                 2.1.0\n",
            "aiohttp                 3.9.5\n",
            "aiosignal               1.2.0\n",
            "asttokens               2.4.1\n",
            "astunparse              1.6.3\n",
            "async-timeout           4.0.3\n",
            "attrs                   23.1.0\n",
            "blinker                 1.6.2\n",
            "Bottleneck              1.3.7\n",
            "Brotli                  1.0.9\n",
            "cachetools              5.3.3\n",
            "certifi                 2024.2.2\n",
            "cffi                    1.16.0\n",
            "charset-normalizer      2.0.4\n",
            "click                   8.1.7\n",
            "colorama                0.4.6\n",
            "comm                    0.2.2\n",
            "contourpy               1.2.0\n",
            "cryptography            41.0.3\n",
            "cycler                  0.11.0\n",
            "debugpy                 1.8.1\n",
            "decorator               5.1.1\n",
            "exceptiongroup          1.2.0\n",
            "executing               2.0.1\n",
            "flatbuffers             2.0\n",
            "fonttools               4.51.0\n",
            "frozenlist              1.4.0\n",
            "gast                    0.4.0\n",
            "google-auth             2.29.0\n",
            "google-auth-oauthlib    0.4.4\n",
            "google-pasta            0.2.0\n",
            "grpcio                  1.48.2\n",
            "h5py                    3.9.0\n",
            "idna                    3.7\n",
            "importlib_metadata      7.1.0\n",
            "ipykernel               6.29.3\n",
            "ipython                 8.22.2\n",
            "jedi                    0.19.1\n",
            "joblib                  1.4.0\n",
            "jupyter_client          8.6.1\n",
            "jupyter_core            5.7.2\n",
            "keras                   2.10.0\n",
            "Keras-Preprocessing     1.1.2\n",
            "kiwisolver              1.4.4\n",
            "Markdown                3.4.1\n",
            "MarkupSafe              2.1.3\n",
            "matplotlib              3.8.4\n",
            "matplotlib-inline       0.1.7\n",
            "mkl-fft                 1.3.8\n",
            "mkl-random              1.2.4\n",
            "mkl-service             2.4.0\n",
            "multidict               6.0.4\n",
            "nest_asyncio            1.6.0\n",
            "numexpr                 2.8.7\n",
            "numpy                   1.26.4\n",
            "oauthlib                3.2.2\n",
            "opt-einsum              3.3.0\n",
            "packaging               23.2\n",
            "pandas                  2.2.1\n",
            "parso                   0.8.4\n",
            "pickleshare             0.7.5\n",
            "pillow                  10.3.0\n",
            "pip                     24.0\n",
            "platformdirs            4.2.1\n",
            "prompt-toolkit          3.0.42\n",
            "protobuf                3.20.3\n",
            "psutil                  5.9.8\n",
            "pure-eval               0.2.2\n",
            "pyasn1                  0.4.8\n",
            "pyasn1-modules          0.2.8\n",
            "pycparser               2.21\n",
            "Pygments                2.18.0\n",
            "PyJWT                   2.4.0\n",
            "pyOpenSSL               23.2.0\n",
            "pyparsing               3.0.9\n",
            "PySocks                 1.7.1\n",
            "python-dateutil         2.8.2\n",
            "pytz                    2024.1\n",
            "pywin32                 306\n",
            "pyzmq                   26.0.3\n",
            "requests                2.31.0\n",
            "requests-oauthlib       1.3.0\n",
            "rsa                     4.7.2\n",
            "scikit-learn            1.4.2\n",
            "scipy                   1.13.0\n",
            "seaborn                 0.12.2\n",
            "setuptools              69.5.1\n",
            "six                     1.16.0\n",
            "stack-data              0.6.2\n",
            "tensorboard             2.10.0\n",
            "tensorboard-data-server 0.6.1\n",
            "tensorboard-plugin-wit  1.8.1\n",
            "tensorflow              2.10.0\n",
            "tensorflow-estimator    2.10.0\n",
            "termcolor               2.1.0\n",
            "threadpoolctl           2.2.0\n",
            "tornado                 6.4\n",
            "traitlets               5.14.3\n",
            "typing_extensions       4.9.0\n",
            "tzdata                  2023.3\n",
            "unicodedata2            15.1.0\n",
            "urllib3                 2.1.0\n",
            "wcwidth                 0.2.13\n",
            "Werkzeug                2.3.8\n",
            "wheel                   0.43.0\n",
            "win-inet-pton           1.1.0\n",
            "wrapt                   1.14.1\n",
            "yarl                    1.9.3\n",
            "zipp                    3.17.0\n"
          ]
        }
      ],
      "source": [
        "!pip list"
      ]
    },
    {
      "cell_type": "markdown",
      "metadata": {
        "id": "t2HDvhIu9hEr"
      },
      "source": [
        "# Specify each path"
      ]
    },
    {
      "cell_type": "code",
      "execution_count": 49,
      "metadata": {
        "id": "9NvZP2Zn9hEy"
      },
      "outputs": [],
      "source": [
        "dataset = 'model/keypoint_classifier/keypoint.csv'\n",
        "model_save_path = 'model/keypoint_classifier/keypoint_classifier.hdf5'\n",
        "tflite_save_path = 'model/keypoint_classifier/keypoint_classifier.tflite'"
      ]
    },
    {
      "cell_type": "markdown",
      "metadata": {
        "id": "s5oMH7x19hEz"
      },
      "source": [
        "# Set number of classes"
      ]
    },
    {
      "cell_type": "code",
      "execution_count": 50,
      "metadata": {
        "id": "du4kodXL9hEz"
      },
      "outputs": [],
      "source": [
        "NUM_CLASSES = 12"
      ]
    },
    {
      "cell_type": "markdown",
      "metadata": {
        "id": "XjnL0uso9hEz"
      },
      "source": [
        "# Dataset reading"
      ]
    },
    {
      "cell_type": "code",
      "execution_count": 51,
      "metadata": {
        "id": "QT5ZqtEz9hE0"
      },
      "outputs": [],
      "source": [
        "X_dataset = np.loadtxt(dataset, delimiter=',', dtype='float32', usecols=list(range(1, (21 * 2) + 1)))"
      ]
    },
    {
      "cell_type": "code",
      "execution_count": 52,
      "metadata": {
        "id": "QmoKFsp49hE0"
      },
      "outputs": [],
      "source": [
        "y_dataset = np.loadtxt(dataset, delimiter=',', dtype='int32', usecols=(0))"
      ]
    },
    {
      "cell_type": "code",
      "execution_count": 53,
      "metadata": {
        "id": "xQU7JTZ_9hE0"
      },
      "outputs": [],
      "source": [
        "X_train, X_test, y_train, y_test = train_test_split(X_dataset, y_dataset, train_size=0.75, random_state=RANDOM_SEED)"
      ]
    },
    {
      "cell_type": "markdown",
      "metadata": {
        "id": "mxK_lETT9hE0"
      },
      "source": [
        "# Model building"
      ]
    },
    {
      "cell_type": "code",
      "execution_count": 54,
      "metadata": {
        "id": "vHBmUf1t9hE1"
      },
      "outputs": [],
      "source": [
        "model = tf.keras.models.Sequential([\n",
        "    tf.keras.layers.Input((21 * 2, )),\n",
        "    tf.keras.layers.Dropout(0.2),\n",
        "    tf.keras.layers.Dense(20, activation='relu'),\n",
        "    tf.keras.layers.Dropout(0.4),\n",
        "    tf.keras.layers.Dense(10, activation='relu'),\n",
        "    tf.keras.layers.Dense(NUM_CLASSES, activation='softmax')\n",
        "])"
      ]
    },
    {
      "cell_type": "code",
      "execution_count": 55,
      "metadata": {
        "colab": {
          "base_uri": "https://localhost:8080/"
        },
        "id": "ypqky9tc9hE1",
        "outputId": "5db082bb-30e3-4110-bf63-a1ee777ecd46"
      },
      "outputs": [
        {
          "name": "stdout",
          "output_type": "stream",
          "text": [
            "Model: \"sequential_2\"\n",
            "_________________________________________________________________\n",
            " Layer (type)                Output Shape              Param #   \n",
            "=================================================================\n",
            " dropout_4 (Dropout)         (None, 42)                0         \n",
            "                                                                 \n",
            " dense_6 (Dense)             (None, 20)                860       \n",
            "                                                                 \n",
            " dropout_5 (Dropout)         (None, 20)                0         \n",
            "                                                                 \n",
            " dense_7 (Dense)             (None, 10)                210       \n",
            "                                                                 \n",
            " dense_8 (Dense)             (None, 12)                132       \n",
            "                                                                 \n",
            "=================================================================\n",
            "Total params: 1,202\n",
            "Trainable params: 1,202\n",
            "Non-trainable params: 0\n",
            "_________________________________________________________________\n"
          ]
        }
      ],
      "source": [
        "model.summary()  # tf.keras.utils.plot_model(model, show_shapes=True)"
      ]
    },
    {
      "cell_type": "code",
      "execution_count": 56,
      "metadata": {
        "id": "MbMjOflQ9hE1"
      },
      "outputs": [],
      "source": [
        "# Model checkpoint callback\n",
        "cp_callback = tf.keras.callbacks.ModelCheckpoint(\n",
        "    model_save_path, verbose=1, save_weights_only=False)\n",
        "# Callback for early stopping\n",
        "es_callback = tf.keras.callbacks.EarlyStopping(patience=20, verbose=1)"
      ]
    },
    {
      "cell_type": "code",
      "execution_count": 57,
      "metadata": {
        "id": "c3Dac0M_9hE2"
      },
      "outputs": [],
      "source": [
        "# Model compilation\n",
        "model.compile(\n",
        "    optimizer='adam',\n",
        "    loss='sparse_categorical_crossentropy',\n",
        "    metrics=['accuracy']\n",
        ")"
      ]
    },
    {
      "cell_type": "markdown",
      "metadata": {
        "id": "7XI0j1Iu9hE2"
      },
      "source": [
        "# Model training"
      ]
    },
    {
      "cell_type": "code",
      "execution_count": 58,
      "metadata": {
        "colab": {
          "base_uri": "https://localhost:8080/"
        },
        "id": "WirBl-JE9hE3",
        "outputId": "71b30ca2-8294-4d9d-8aa2-800d90d399de",
        "scrolled": true
      },
      "outputs": [
        {
          "name": "stdout",
          "output_type": "stream",
          "text": [
            "Epoch 1/1000\n",
            "61/61 [==============================] - 0s 4ms/step - loss: 2.5370 - accuracy: 0.1075 - val_loss: 2.3611 - val_accuracy: 0.1894\n",
            "Epoch 2/1000\n",
            "61/61 [==============================] - 0s 2ms/step - loss: 2.3165 - accuracy: 0.1825 - val_loss: 2.1728 - val_accuracy: 0.2843\n",
            "Epoch 3/1000\n",
            "61/61 [==============================] - 0s 2ms/step - loss: 2.1248 - accuracy: 0.2690 - val_loss: 1.9124 - val_accuracy: 0.3079\n",
            "Epoch 4/1000\n",
            "61/61 [==============================] - 0s 2ms/step - loss: 1.8934 - accuracy: 0.3221 - val_loss: 1.6178 - val_accuracy: 0.4414\n",
            "Epoch 5/1000\n",
            "61/61 [==============================] - 0s 2ms/step - loss: 1.6916 - accuracy: 0.3508 - val_loss: 1.4280 - val_accuracy: 0.4796\n",
            "Epoch 6/1000\n",
            "61/61 [==============================] - 0s 2ms/step - loss: 1.5677 - accuracy: 0.3911 - val_loss: 1.3085 - val_accuracy: 0.5880\n",
            "Epoch 7/1000\n",
            "61/61 [==============================] - 0s 2ms/step - loss: 1.4786 - accuracy: 0.4172 - val_loss: 1.2052 - val_accuracy: 0.6512\n",
            "Epoch 8/1000\n",
            "61/61 [==============================] - 0s 2ms/step - loss: 1.4124 - accuracy: 0.4435 - val_loss: 1.1268 - val_accuracy: 0.6516\n",
            "Epoch 9/1000\n",
            "61/61 [==============================] - 0s 2ms/step - loss: 1.3614 - accuracy: 0.4556 - val_loss: 1.0497 - val_accuracy: 0.6887\n",
            "Epoch 10/1000\n",
            "61/61 [==============================] - 0s 2ms/step - loss: 1.3064 - accuracy: 0.4825 - val_loss: 0.9841 - val_accuracy: 0.7315\n",
            "Epoch 11/1000\n",
            "61/61 [==============================] - 0s 2ms/step - loss: 1.2646 - accuracy: 0.5024 - val_loss: 0.9286 - val_accuracy: 0.7593\n",
            "Epoch 12/1000\n",
            "61/61 [==============================] - 0s 2ms/step - loss: 1.2334 - accuracy: 0.5270 - val_loss: 0.8773 - val_accuracy: 0.7627\n",
            "Epoch 13/1000\n",
            "61/61 [==============================] - 0s 2ms/step - loss: 1.1808 - accuracy: 0.5390 - val_loss: 0.8195 - val_accuracy: 0.7685\n",
            "Epoch 14/1000\n",
            "61/61 [==============================] - 0s 2ms/step - loss: 1.1410 - accuracy: 0.5568 - val_loss: 0.7687 - val_accuracy: 0.7897\n",
            "Epoch 15/1000\n",
            "61/61 [==============================] - 0s 2ms/step - loss: 1.1306 - accuracy: 0.5610 - val_loss: 0.7392 - val_accuracy: 0.7940\n",
            "Epoch 16/1000\n",
            "61/61 [==============================] - 0s 2ms/step - loss: 1.1012 - accuracy: 0.5734 - val_loss: 0.7079 - val_accuracy: 0.8264\n",
            "Epoch 17/1000\n",
            "61/61 [==============================] - 0s 2ms/step - loss: 1.0714 - accuracy: 0.5837 - val_loss: 0.6649 - val_accuracy: 0.8183\n",
            "Epoch 18/1000\n",
            "61/61 [==============================] - 0s 2ms/step - loss: 1.0664 - accuracy: 0.5808 - val_loss: 0.6459 - val_accuracy: 0.8164\n",
            "Epoch 19/1000\n",
            "61/61 [==============================] - 0s 2ms/step - loss: 1.0288 - accuracy: 0.6046 - val_loss: 0.6221 - val_accuracy: 0.9059\n",
            "Epoch 20/1000\n",
            "61/61 [==============================] - 0s 2ms/step - loss: 1.0115 - accuracy: 0.6152 - val_loss: 0.6142 - val_accuracy: 0.9290\n",
            "Epoch 21/1000\n",
            "61/61 [==============================] - 0s 2ms/step - loss: 1.0165 - accuracy: 0.6109 - val_loss: 0.5995 - val_accuracy: 0.9255\n",
            "Epoch 22/1000\n",
            "61/61 [==============================] - 0s 2ms/step - loss: 0.9901 - accuracy: 0.6241 - val_loss: 0.5739 - val_accuracy: 0.9414\n",
            "Epoch 23/1000\n",
            "61/61 [==============================] - 0s 2ms/step - loss: 0.9787 - accuracy: 0.6305 - val_loss: 0.5672 - val_accuracy: 0.9421\n",
            "Epoch 24/1000\n",
            "61/61 [==============================] - 0s 2ms/step - loss: 0.9541 - accuracy: 0.6454 - val_loss: 0.5283 - val_accuracy: 0.9433\n",
            "Epoch 25/1000\n",
            "61/61 [==============================] - 0s 2ms/step - loss: 0.9426 - accuracy: 0.6430 - val_loss: 0.5318 - val_accuracy: 0.9475\n",
            "Epoch 26/1000\n",
            "61/61 [==============================] - 0s 2ms/step - loss: 0.9311 - accuracy: 0.6503 - val_loss: 0.5088 - val_accuracy: 0.9568\n",
            "Epoch 27/1000\n",
            "61/61 [==============================] - 0s 2ms/step - loss: 0.9285 - accuracy: 0.6538 - val_loss: 0.5122 - val_accuracy: 0.9525\n",
            "Epoch 28/1000\n",
            "61/61 [==============================] - 0s 2ms/step - loss: 0.9039 - accuracy: 0.6674 - val_loss: 0.4945 - val_accuracy: 0.9599\n",
            "Epoch 29/1000\n",
            "61/61 [==============================] - 0s 2ms/step - loss: 0.9110 - accuracy: 0.6610 - val_loss: 0.4851 - val_accuracy: 0.9587\n",
            "Epoch 30/1000\n",
            "61/61 [==============================] - 0s 2ms/step - loss: 0.8940 - accuracy: 0.6710 - val_loss: 0.4768 - val_accuracy: 0.9606\n",
            "Epoch 31/1000\n",
            "61/61 [==============================] - 0s 2ms/step - loss: 0.8731 - accuracy: 0.6815 - val_loss: 0.4568 - val_accuracy: 0.9599\n",
            "Epoch 32/1000\n",
            "61/61 [==============================] - 0s 2ms/step - loss: 0.8867 - accuracy: 0.6714 - val_loss: 0.4585 - val_accuracy: 0.9649\n",
            "Epoch 33/1000\n",
            "61/61 [==============================] - 0s 2ms/step - loss: 0.8709 - accuracy: 0.6746 - val_loss: 0.4360 - val_accuracy: 0.9645\n",
            "Epoch 34/1000\n",
            "61/61 [==============================] - 0s 2ms/step - loss: 0.8788 - accuracy: 0.6745 - val_loss: 0.4408 - val_accuracy: 0.9649\n",
            "Epoch 35/1000\n",
            "61/61 [==============================] - 0s 2ms/step - loss: 0.8701 - accuracy: 0.6800 - val_loss: 0.4406 - val_accuracy: 0.9684\n",
            "Epoch 36/1000\n",
            "61/61 [==============================] - 0s 2ms/step - loss: 0.8535 - accuracy: 0.6888 - val_loss: 0.4163 - val_accuracy: 0.9680\n",
            "Epoch 37/1000\n",
            "61/61 [==============================] - 0s 2ms/step - loss: 0.8413 - accuracy: 0.6896 - val_loss: 0.4237 - val_accuracy: 0.9668\n",
            "Epoch 38/1000\n",
            "61/61 [==============================] - 0s 2ms/step - loss: 0.8394 - accuracy: 0.6965 - val_loss: 0.4226 - val_accuracy: 0.9676\n",
            "Epoch 39/1000\n",
            "61/61 [==============================] - 0s 2ms/step - loss: 0.8430 - accuracy: 0.6903 - val_loss: 0.4187 - val_accuracy: 0.9657\n",
            "Epoch 40/1000\n",
            "61/61 [==============================] - 0s 2ms/step - loss: 0.8396 - accuracy: 0.6925 - val_loss: 0.4289 - val_accuracy: 0.9657\n",
            "Epoch 41/1000\n",
            "61/61 [==============================] - 0s 2ms/step - loss: 0.8354 - accuracy: 0.6876 - val_loss: 0.4101 - val_accuracy: 0.9703\n",
            "Epoch 42/1000\n",
            "61/61 [==============================] - 0s 2ms/step - loss: 0.8367 - accuracy: 0.6897 - val_loss: 0.4048 - val_accuracy: 0.9684\n",
            "Epoch 43/1000\n",
            "61/61 [==============================] - 0s 2ms/step - loss: 0.8172 - accuracy: 0.6996 - val_loss: 0.3864 - val_accuracy: 0.9676\n",
            "Epoch 44/1000\n",
            "61/61 [==============================] - 0s 2ms/step - loss: 0.8268 - accuracy: 0.6993 - val_loss: 0.3916 - val_accuracy: 0.9695\n",
            "Epoch 45/1000\n",
            "61/61 [==============================] - 0s 2ms/step - loss: 0.7964 - accuracy: 0.7100 - val_loss: 0.3726 - val_accuracy: 0.9707\n",
            "Epoch 46/1000\n",
            "61/61 [==============================] - 0s 2ms/step - loss: 0.8072 - accuracy: 0.7015 - val_loss: 0.3904 - val_accuracy: 0.9676\n",
            "Epoch 47/1000\n",
            "61/61 [==============================] - 0s 2ms/step - loss: 0.8314 - accuracy: 0.6851 - val_loss: 0.3730 - val_accuracy: 0.9626\n",
            "Epoch 48/1000\n",
            "61/61 [==============================] - 0s 2ms/step - loss: 0.8023 - accuracy: 0.7083 - val_loss: 0.3744 - val_accuracy: 0.9715\n",
            "Epoch 49/1000\n",
            "61/61 [==============================] - 0s 2ms/step - loss: 0.7885 - accuracy: 0.7114 - val_loss: 0.3731 - val_accuracy: 0.9649\n",
            "Epoch 50/1000\n",
            "61/61 [==============================] - 0s 2ms/step - loss: 0.7858 - accuracy: 0.7069 - val_loss: 0.3601 - val_accuracy: 0.9703\n",
            "Epoch 51/1000\n",
            "61/61 [==============================] - 0s 2ms/step - loss: 0.7976 - accuracy: 0.7050 - val_loss: 0.3482 - val_accuracy: 0.9707\n",
            "Epoch 52/1000\n",
            "61/61 [==============================] - 0s 2ms/step - loss: 0.7924 - accuracy: 0.7056 - val_loss: 0.3565 - val_accuracy: 0.9707\n",
            "Epoch 53/1000\n",
            "61/61 [==============================] - 0s 2ms/step - loss: 0.7759 - accuracy: 0.7104 - val_loss: 0.3411 - val_accuracy: 0.9672\n",
            "Epoch 54/1000\n",
            "61/61 [==============================] - 0s 2ms/step - loss: 0.7755 - accuracy: 0.7144 - val_loss: 0.3471 - val_accuracy: 0.9715\n",
            "Epoch 55/1000\n",
            "61/61 [==============================] - 0s 2ms/step - loss: 0.7732 - accuracy: 0.7132 - val_loss: 0.3514 - val_accuracy: 0.9695\n",
            "Epoch 56/1000\n",
            "61/61 [==============================] - 0s 2ms/step - loss: 0.7823 - accuracy: 0.7123 - val_loss: 0.3427 - val_accuracy: 0.9688\n",
            "Epoch 57/1000\n",
            "61/61 [==============================] - 0s 2ms/step - loss: 0.7663 - accuracy: 0.7166 - val_loss: 0.3396 - val_accuracy: 0.9684\n",
            "Epoch 58/1000\n",
            "61/61 [==============================] - 0s 2ms/step - loss: 0.7692 - accuracy: 0.7195 - val_loss: 0.3203 - val_accuracy: 0.9757\n",
            "Epoch 59/1000\n",
            "61/61 [==============================] - 0s 2ms/step - loss: 0.7410 - accuracy: 0.7271 - val_loss: 0.3371 - val_accuracy: 0.9695\n",
            "Epoch 60/1000\n",
            "61/61 [==============================] - 0s 2ms/step - loss: 0.7631 - accuracy: 0.7173 - val_loss: 0.3424 - val_accuracy: 0.9680\n",
            "Epoch 61/1000\n",
            "61/61 [==============================] - 0s 2ms/step - loss: 0.7414 - accuracy: 0.7323 - val_loss: 0.3144 - val_accuracy: 0.9730\n",
            "Epoch 62/1000\n",
            "61/61 [==============================] - 0s 2ms/step - loss: 0.7526 - accuracy: 0.7218 - val_loss: 0.3309 - val_accuracy: 0.9660\n",
            "Epoch 63/1000\n",
            "61/61 [==============================] - 0s 2ms/step - loss: 0.7519 - accuracy: 0.7240 - val_loss: 0.3270 - val_accuracy: 0.9664\n",
            "Epoch 64/1000\n",
            "61/61 [==============================] - 0s 2ms/step - loss: 0.7514 - accuracy: 0.7235 - val_loss: 0.3311 - val_accuracy: 0.9653\n",
            "Epoch 65/1000\n",
            "61/61 [==============================] - 0s 2ms/step - loss: 0.7370 - accuracy: 0.7347 - val_loss: 0.3122 - val_accuracy: 0.9688\n",
            "Epoch 66/1000\n",
            "61/61 [==============================] - 0s 2ms/step - loss: 0.7261 - accuracy: 0.7337 - val_loss: 0.3113 - val_accuracy: 0.9657\n",
            "Epoch 67/1000\n",
            "61/61 [==============================] - 0s 2ms/step - loss: 0.7282 - accuracy: 0.7356 - val_loss: 0.3168 - val_accuracy: 0.9672\n",
            "Epoch 68/1000\n",
            "61/61 [==============================] - 0s 2ms/step - loss: 0.7232 - accuracy: 0.7356 - val_loss: 0.3002 - val_accuracy: 0.9726\n",
            "Epoch 69/1000\n",
            "61/61 [==============================] - 0s 2ms/step - loss: 0.7380 - accuracy: 0.7294 - val_loss: 0.3122 - val_accuracy: 0.9722\n",
            "Epoch 70/1000\n",
            "61/61 [==============================] - 0s 2ms/step - loss: 0.7327 - accuracy: 0.7338 - val_loss: 0.3229 - val_accuracy: 0.9691\n",
            "Epoch 71/1000\n",
            "61/61 [==============================] - 0s 2ms/step - loss: 0.7301 - accuracy: 0.7287 - val_loss: 0.3164 - val_accuracy: 0.9641\n",
            "Epoch 72/1000\n",
            "61/61 [==============================] - 0s 2ms/step - loss: 0.7322 - accuracy: 0.7285 - val_loss: 0.3180 - val_accuracy: 0.9633\n",
            "Epoch 73/1000\n",
            "61/61 [==============================] - 0s 2ms/step - loss: 0.7233 - accuracy: 0.7356 - val_loss: 0.3151 - val_accuracy: 0.9668\n",
            "Epoch 74/1000\n",
            "61/61 [==============================] - 0s 2ms/step - loss: 0.7087 - accuracy: 0.7468 - val_loss: 0.2968 - val_accuracy: 0.9664\n",
            "Epoch 75/1000\n",
            "61/61 [==============================] - 0s 2ms/step - loss: 0.7227 - accuracy: 0.7341 - val_loss: 0.3075 - val_accuracy: 0.9672\n",
            "Epoch 76/1000\n",
            "61/61 [==============================] - 0s 2ms/step - loss: 0.7177 - accuracy: 0.7373 - val_loss: 0.2998 - val_accuracy: 0.9730\n",
            "Epoch 77/1000\n",
            "61/61 [==============================] - 0s 2ms/step - loss: 0.7082 - accuracy: 0.7397 - val_loss: 0.3011 - val_accuracy: 0.9695\n",
            "Epoch 78/1000\n",
            "61/61 [==============================] - 0s 2ms/step - loss: 0.7063 - accuracy: 0.7400 - val_loss: 0.3035 - val_accuracy: 0.9672\n",
            "Epoch 79/1000\n",
            "61/61 [==============================] - 0s 2ms/step - loss: 0.6962 - accuracy: 0.7485 - val_loss: 0.3035 - val_accuracy: 0.9734\n",
            "Epoch 80/1000\n",
            "61/61 [==============================] - 0s 2ms/step - loss: 0.7008 - accuracy: 0.7405 - val_loss: 0.3015 - val_accuracy: 0.9672\n",
            "Epoch 81/1000\n",
            "61/61 [==============================] - 0s 2ms/step - loss: 0.7130 - accuracy: 0.7414 - val_loss: 0.3050 - val_accuracy: 0.9660\n",
            "Epoch 82/1000\n",
            "61/61 [==============================] - 0s 2ms/step - loss: 0.7085 - accuracy: 0.7388 - val_loss: 0.3130 - val_accuracy: 0.9637\n",
            "Epoch 83/1000\n",
            "61/61 [==============================] - 0s 2ms/step - loss: 0.6989 - accuracy: 0.7494 - val_loss: 0.2979 - val_accuracy: 0.9630\n",
            "Epoch 84/1000\n",
            "61/61 [==============================] - 0s 2ms/step - loss: 0.6890 - accuracy: 0.7490 - val_loss: 0.2973 - val_accuracy: 0.9684\n",
            "Epoch 85/1000\n",
            "61/61 [==============================] - 0s 2ms/step - loss: 0.6979 - accuracy: 0.7461 - val_loss: 0.3066 - val_accuracy: 0.9633\n",
            "Epoch 86/1000\n",
            "61/61 [==============================] - 0s 2ms/step - loss: 0.6879 - accuracy: 0.7485 - val_loss: 0.2905 - val_accuracy: 0.9680\n",
            "Epoch 87/1000\n",
            "61/61 [==============================] - 0s 2ms/step - loss: 0.6805 - accuracy: 0.7522 - val_loss: 0.2812 - val_accuracy: 0.9691\n",
            "Epoch 88/1000\n",
            "61/61 [==============================] - 0s 2ms/step - loss: 0.6869 - accuracy: 0.7557 - val_loss: 0.2873 - val_accuracy: 0.9668\n",
            "Epoch 89/1000\n",
            "61/61 [==============================] - 0s 2ms/step - loss: 0.6909 - accuracy: 0.7464 - val_loss: 0.2908 - val_accuracy: 0.9718\n",
            "Epoch 90/1000\n",
            "61/61 [==============================] - 0s 2ms/step - loss: 0.6800 - accuracy: 0.7508 - val_loss: 0.2945 - val_accuracy: 0.9649\n",
            "Epoch 91/1000\n",
            "61/61 [==============================] - 0s 2ms/step - loss: 0.6849 - accuracy: 0.7465 - val_loss: 0.2967 - val_accuracy: 0.9633\n",
            "Epoch 92/1000\n",
            "61/61 [==============================] - 0s 2ms/step - loss: 0.6819 - accuracy: 0.7483 - val_loss: 0.2863 - val_accuracy: 0.9707\n",
            "Epoch 93/1000\n",
            "61/61 [==============================] - 0s 2ms/step - loss: 0.6713 - accuracy: 0.7553 - val_loss: 0.2843 - val_accuracy: 0.9691\n",
            "Epoch 94/1000\n",
            "61/61 [==============================] - 0s 2ms/step - loss: 0.6802 - accuracy: 0.7545 - val_loss: 0.3039 - val_accuracy: 0.9680\n",
            "Epoch 95/1000\n",
            "61/61 [==============================] - 0s 2ms/step - loss: 0.6835 - accuracy: 0.7488 - val_loss: 0.2810 - val_accuracy: 0.9707\n",
            "Epoch 96/1000\n",
            "61/61 [==============================] - 0s 2ms/step - loss: 0.6709 - accuracy: 0.7568 - val_loss: 0.2966 - val_accuracy: 0.9653\n",
            "Epoch 97/1000\n",
            "61/61 [==============================] - 0s 2ms/step - loss: 0.6676 - accuracy: 0.7517 - val_loss: 0.2955 - val_accuracy: 0.9653\n",
            "Epoch 98/1000\n",
            "61/61 [==============================] - 0s 2ms/step - loss: 0.6645 - accuracy: 0.7652 - val_loss: 0.2856 - val_accuracy: 0.9660\n",
            "Epoch 99/1000\n",
            "61/61 [==============================] - 0s 2ms/step - loss: 0.6694 - accuracy: 0.7528 - val_loss: 0.3022 - val_accuracy: 0.9568\n",
            "Epoch 100/1000\n",
            "61/61 [==============================] - 0s 2ms/step - loss: 0.6506 - accuracy: 0.7640 - val_loss: 0.2838 - val_accuracy: 0.9660\n",
            "Epoch 101/1000\n",
            "61/61 [==============================] - 0s 2ms/step - loss: 0.6693 - accuracy: 0.7562 - val_loss: 0.2926 - val_accuracy: 0.9614\n",
            "Epoch 102/1000\n",
            "61/61 [==============================] - 0s 2ms/step - loss: 0.6568 - accuracy: 0.7604 - val_loss: 0.2956 - val_accuracy: 0.9660\n",
            "Epoch 103/1000\n",
            "61/61 [==============================] - 0s 2ms/step - loss: 0.6537 - accuracy: 0.7613 - val_loss: 0.2737 - val_accuracy: 0.9703\n",
            "Epoch 104/1000\n",
            "61/61 [==============================] - 0s 2ms/step - loss: 0.6492 - accuracy: 0.7652 - val_loss: 0.2873 - val_accuracy: 0.9641\n",
            "Epoch 105/1000\n",
            "61/61 [==============================] - 0s 2ms/step - loss: 0.6503 - accuracy: 0.7672 - val_loss: 0.2869 - val_accuracy: 0.9645\n",
            "Epoch 106/1000\n",
            "61/61 [==============================] - 0s 2ms/step - loss: 0.6510 - accuracy: 0.7613 - val_loss: 0.2803 - val_accuracy: 0.9618\n",
            "Epoch 107/1000\n",
            "61/61 [==============================] - 0s 2ms/step - loss: 0.6469 - accuracy: 0.7658 - val_loss: 0.2806 - val_accuracy: 0.9653\n",
            "Epoch 108/1000\n",
            "61/61 [==============================] - 0s 2ms/step - loss: 0.6368 - accuracy: 0.7635 - val_loss: 0.2999 - val_accuracy: 0.9599\n",
            "Epoch 109/1000\n",
            "61/61 [==============================] - 0s 2ms/step - loss: 0.6479 - accuracy: 0.7648 - val_loss: 0.2912 - val_accuracy: 0.9599\n",
            "Epoch 110/1000\n",
            "61/61 [==============================] - 0s 2ms/step - loss: 0.6462 - accuracy: 0.7609 - val_loss: 0.3140 - val_accuracy: 0.9568\n",
            "Epoch 111/1000\n",
            "61/61 [==============================] - 0s 2ms/step - loss: 0.6379 - accuracy: 0.7683 - val_loss: 0.2892 - val_accuracy: 0.9645\n",
            "Epoch 112/1000\n",
            "61/61 [==============================] - 0s 2ms/step - loss: 0.6324 - accuracy: 0.7677 - val_loss: 0.2902 - val_accuracy: 0.9606\n",
            "Epoch 113/1000\n",
            "61/61 [==============================] - 0s 2ms/step - loss: 0.6490 - accuracy: 0.7589 - val_loss: 0.2785 - val_accuracy: 0.9618\n",
            "Epoch 114/1000\n",
            "61/61 [==============================] - 0s 2ms/step - loss: 0.6554 - accuracy: 0.7622 - val_loss: 0.3077 - val_accuracy: 0.9568\n",
            "Epoch 115/1000\n",
            "61/61 [==============================] - 0s 2ms/step - loss: 0.6566 - accuracy: 0.7581 - val_loss: 0.2888 - val_accuracy: 0.9653\n",
            "Epoch 116/1000\n",
            "61/61 [==============================] - 0s 2ms/step - loss: 0.6455 - accuracy: 0.7594 - val_loss: 0.2834 - val_accuracy: 0.9633\n",
            "Epoch 117/1000\n",
            "61/61 [==============================] - 0s 2ms/step - loss: 0.6344 - accuracy: 0.7710 - val_loss: 0.2891 - val_accuracy: 0.9606\n",
            "Epoch 118/1000\n",
            "61/61 [==============================] - 0s 2ms/step - loss: 0.6296 - accuracy: 0.7713 - val_loss: 0.2891 - val_accuracy: 0.9576\n",
            "Epoch 119/1000\n",
            "61/61 [==============================] - 0s 2ms/step - loss: 0.6523 - accuracy: 0.7643 - val_loss: 0.2902 - val_accuracy: 0.9576\n",
            "Epoch 120/1000\n",
            "61/61 [==============================] - 0s 2ms/step - loss: 0.6333 - accuracy: 0.7649 - val_loss: 0.2959 - val_accuracy: 0.9572\n",
            "Epoch 121/1000\n",
            "61/61 [==============================] - 0s 2ms/step - loss: 0.6402 - accuracy: 0.7640 - val_loss: 0.2848 - val_accuracy: 0.9618\n",
            "Epoch 122/1000\n",
            "61/61 [==============================] - 0s 2ms/step - loss: 0.6298 - accuracy: 0.7661 - val_loss: 0.2894 - val_accuracy: 0.9603\n",
            "Epoch 123/1000\n",
            "61/61 [==============================] - 0s 2ms/step - loss: 0.6277 - accuracy: 0.7752 - val_loss: 0.2968 - val_accuracy: 0.9626\n",
            "Epoch 123: early stopping\n"
          ]
        },
        {
          "data": {
            "text/plain": [
              "<keras.callbacks.History at 0x255a0126230>"
            ]
          },
          "execution_count": 58,
          "metadata": {},
          "output_type": "execute_result"
        }
      ],
      "source": [
        "model.fit(\n",
        "    X_train,\n",
        "    y_train,\n",
        "    epochs=1000,\n",
        "    batch_size=128,\n",
        "    validation_data=(X_test, y_test),\n",
        "    callbacks=[es_callback]\n",
        ")"
      ]
    },
    {
      "cell_type": "code",
      "execution_count": 59,
      "metadata": {
        "colab": {
          "base_uri": "https://localhost:8080/"
        },
        "id": "pxvb2Y299hE3",
        "outputId": "59eb3185-2e37-4b9e-bc9d-ab1b8ac29b7f"
      },
      "outputs": [
        {
          "name": "stdout",
          "output_type": "stream",
          "text": [
            "21/21 [==============================] - 0s 804us/step - loss: 0.2968 - accuracy: 0.9626\n"
          ]
        }
      ],
      "source": [
        "# Model evaluation\n",
        "val_loss, val_acc = model.evaluate(X_test, y_test, batch_size=128)"
      ]
    },
    {
      "cell_type": "code",
      "execution_count": 60,
      "metadata": {
        "id": "RBkmDeUW9hE4"
      },
      "outputs": [
        {
          "name": "stdout",
          "output_type": "stream",
          "text": [
            "WARNING:tensorflow:No training configuration found in the save file, so the model was *not* compiled. Compile it manually.\n"
          ]
        },
        {
          "name": "stderr",
          "output_type": "stream",
          "text": [
            "WARNING:tensorflow:No training configuration found in the save file, so the model was *not* compiled. Compile it manually.\n"
          ]
        }
      ],
      "source": [
        "# Loading the saved model\n",
        "model = tf.keras.models.load_model(model_save_path)"
      ]
    },
    {
      "cell_type": "code",
      "execution_count": 61,
      "metadata": {
        "colab": {
          "base_uri": "https://localhost:8080/"
        },
        "id": "tFz9Tb0I9hE4",
        "outputId": "1c3b3528-54ae-4ee2-ab04-77429211cbef"
      },
      "outputs": [
        {
          "name": "stdout",
          "output_type": "stream",
          "text": [
            "1/1 [==============================] - 0s 51ms/step\n",
            "[8.1468323e-07 4.2301067e-03 4.2986206e-04 9.8623997e-01 5.2362993e-06\n",
            " 9.7120994e-14 4.9760987e-11 3.1806529e-08 8.6826449e-03 4.1131457e-04\n",
            " 3.6531511e-20 1.3036534e-11]\n",
            "3\n"
          ]
        }
      ],
      "source": [
        "# Inference test\n",
        "predict_result = model.predict(np.array([X_test[0]]))\n",
        "print(np.squeeze(predict_result))\n",
        "print(np.argmax(np.squeeze(predict_result)))"
      ]
    },
    {
      "cell_type": "markdown",
      "metadata": {
        "id": "S3U4yNWx9hE4"
      },
      "source": [
        "# Confusion matrix"
      ]
    },
    {
      "cell_type": "code",
      "execution_count": 62,
      "metadata": {
        "colab": {
          "base_uri": "https://localhost:8080/",
          "height": 582
        },
        "id": "AP1V6SCk9hE5",
        "outputId": "08e41a80-7a4a-4619-8125-ecc371368d19"
      },
      "outputs": [
        {
          "name": "stdout",
          "output_type": "stream",
          "text": [
            "81/81 [==============================] - 0s 594us/step\n"
          ]
        },
        {
          "data": {
            "image/png": "[encoded data removed]",
            "text/plain": [
              "<Figure size 700x600 with 2 Axes>"
            ]
          },
          "metadata": {},
          "output_type": "display_data"
        },
        {
          "name": "stdout",
          "output_type": "stream",
          "text": [
            "Classification Report\n",
            "              precision    recall  f1-score   support\n",
            "\n",
            "           0       0.98      0.94      0.96       159\n",
            "           1       1.00      0.93      0.97       630\n",
            "           2       0.95      0.99      0.97       389\n",
            "           3       0.99      0.99      0.99       275\n",
            "           4       1.00      1.00      1.00       200\n",
            "           5       0.91      0.99      0.95       166\n",
            "           6       0.96      1.00      0.98       135\n",
            "           7       0.95      1.00      0.97       193\n",
            "           8       0.98      0.97      0.98       230\n",
            "           9       0.96      0.99      0.97       151\n",
            "          11       0.95      0.81      0.87        64\n",
            "\n",
            "    accuracy                           0.97      2592\n",
            "   macro avg       0.96      0.97      0.96      2592\n",
            "weighted avg       0.97      0.97      0.97      2592\n",
            "\n"
          ]
        }
      ],
      "source": [
        "import pandas as pd\n",
        "import seaborn as sns\n",
        "import matplotlib.pyplot as plt\n",
        "from sklearn.metrics import confusion_matrix, classification_report\n",
        "\n",
        "def print_confusion_matrix(y_true, y_pred, report=True):\n",
        "    labels = sorted(list(set(y_true)))\n",
        "    cmx_data = confusion_matrix(y_true, y_pred, labels=labels)\n",
        "    \n",
        "    df_cmx = pd.DataFrame(cmx_data, index=labels, columns=labels)\n",
        " \n",
        "    fig, ax = plt.subplots(figsize=(7, 6))\n",
        "    sns.heatmap(df_cmx, annot=True, fmt='g' ,square=False)\n",
        "    ax.set_ylim(len(set(y_true)), 0)\n",
        "    plt.show()\n",
        "    \n",
        "    if report:\n",
        "        print('Classification Report')\n",
        "        print(classification_report(y_test, y_pred))\n",
        "\n",
        "Y_pred = model.predict(X_test)\n",
        "y_pred = np.argmax(Y_pred, axis=1)\n",
        "\n",
        "print_confusion_matrix(y_test, y_pred)"
      ]
    },
    {
      "cell_type": "markdown",
      "metadata": {
        "id": "FNP6aqzc9hE5"
      },
      "source": [
        "# Convert to model for Tensorflow-Lite"
      ]
    },
    {
      "cell_type": "code",
      "execution_count": 63,
      "metadata": {
        "id": "ODjnYyld9hE6"
      },
      "outputs": [
        {
          "name": "stdout",
          "output_type": "stream",
          "text": [
            "WARNING:tensorflow:Compiled the loaded model, but the compiled metrics have yet to be built. `model.compile_metrics` will be empty until you train or evaluate the model.\n"
          ]
        },
        {
          "name": "stderr",
          "output_type": "stream",
          "text": [
            "WARNING:tensorflow:Compiled the loaded model, but the compiled metrics have yet to be built. `model.compile_metrics` will be empty until you train or evaluate the model.\n"
          ]
        }
      ],
      "source": [
        "# Save as a model dedicated to inference\n",
        "model.save(model_save_path, include_optimizer=False)"
      ]
    },
    {
      "cell_type": "code",
      "execution_count": 64,
      "metadata": {
        "colab": {
          "base_uri": "https://localhost:8080/"
        },
        "id": "zRfuK8Y59hE6",
        "outputId": "a4ca585c-b5d5-4244-8291-8674063209bb"
      },
      "outputs": [
        {
          "name": "stdout",
          "output_type": "stream",
          "text": [
            "INFO:tensorflow:Assets written to: C:\\Users\\acer\\AppData\\Local\\Temp\\tmps_oxtfa8\\assets\n"
          ]
        },
        {
          "name": "stderr",
          "output_type": "stream",
          "text": [
            "INFO:tensorflow:Assets written to: C:\\Users\\acer\\AppData\\Local\\Temp\\tmps_oxtfa8\\assets\n"
          ]
        },
        {
          "data": {
            "text/plain": [
              "6924"
            ]
          },
          "execution_count": 64,
          "metadata": {},
          "output_type": "execute_result"
        }
      ],
      "source": [
        "# Transform model (quantization)\n",
        "\n",
        "converter = tf.lite.TFLiteConverter.from_keras_model(model)\n",
        "converter.optimizations = [tf.lite.Optimize.DEFAULT]\n",
        "tflite_quantized_model = converter.convert()\n",
        "\n",
        "open(tflite_save_path, 'wb').write(tflite_quantized_model)"
      ]
    },
    {
      "cell_type": "markdown",
      "metadata": {
        "id": "CHBPBXdx9hE6"
      },
      "source": [
        "# Inference test"
      ]
    },
    {
      "cell_type": "code",
      "execution_count": 65,
      "metadata": {
        "id": "mGAzLocO9hE7"
      },
      "outputs": [],
      "source": [
        "interpreter = tf.lite.Interpreter(model_path=tflite_save_path)\n",
        "interpreter.allocate_tensors()"
      ]
    },
    {
      "cell_type": "code",
      "execution_count": 66,
      "metadata": {
        "id": "oQuDK8YS9hE7"
      },
      "outputs": [],
      "source": [
        "# Get I / O tensor\n",
        "input_details = interpreter.get_input_details()\n",
        "output_details = interpreter.get_output_details()"
      ]
    },
    {
      "cell_type": "code",
      "execution_count": 67,
      "metadata": {
        "id": "2_ixAf_l9hE7"
      },
      "outputs": [],
      "source": [
        "interpreter.set_tensor(input_details[0]['index'], np.array([X_test[0]]))"
      ]
    },
    {
      "cell_type": "code",
      "execution_count": 68,
      "metadata": {
        "colab": {
          "base_uri": "https://localhost:8080/"
        },
        "id": "s4FoAnuc9hE7",
        "outputId": "91f18257-8d8b-4ef3-c558-e9b5f94fabbf",
        "scrolled": true
      },
      "outputs": [
        {
          "name": "stdout",
          "output_type": "stream",
          "text": [
            "CPU times: total: 0 ns\n",
            "Wall time: 0 ns\n"
          ]
        }
      ],
      "source": [
        "%%time\n",
        "# Inference implementation\n",
        "interpreter.invoke()\n",
        "tflite_results = interpreter.get_tensor(output_details[0]['index'])"
      ]
    },
    {
      "cell_type": "code",
      "execution_count": 69,
      "metadata": {
        "colab": {
          "base_uri": "https://localhost:8080/"
        },
        "id": "vONjp19J9hE8",
        "outputId": "77205e24-fd00-42c4-f7b6-e06e527c2cba"
      },
      "outputs": [
        {
          "name": "stdout",
          "output_type": "stream",
          "text": [
            "[8.1468556e-07 4.2301109e-03 4.2986168e-04 9.8624009e-01 5.2363198e-06\n",
            " 9.7121753e-14 4.9761088e-11 3.1806714e-08 8.6826496e-03 4.1131440e-04\n",
            " 3.6531795e-20 1.3036633e-11]\n",
            "3\n"
          ]
        }
      ],
      "source": [
        "print(np.squeeze(tflite_results))\n",
        "print(np.argmax(np.squeeze(tflite_results)))"
      ]
    }
  ],
  "metadata": {
    "accelerator": "GPU",
    "colab": {
      "collapsed_sections": [],
      "name": "keypoint_classification_EN.ipynb",
      "provenance": [],
      "toc_visible": true
    },
    "kernelspec": {
      "display_name": "Python 3",
      "language": "python",
      "name": "python3"
    },
    "language_info": {
      "codemirror_mode": {
        "name": "ipython",
        "version": 3
      },
      "file_extension": ".py",
      "mimetype": "text/x-python",
      "name": "python",
      "nbconvert_exporter": "python",
      "pygments_lexer": "ipython3",
      "version": "3.10.8"
    }
  },
  "nbformat": 4,
  "nbformat_minor": 0
}
